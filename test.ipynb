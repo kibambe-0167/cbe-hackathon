{
 "cells": [
  {
   "cell_type": "code",
   "execution_count": 21,
   "metadata": {},
   "outputs": [
    {
     "name": "stdout",
     "output_type": "stream",
     "text": [
      "size of text: [Your text data here] : is 68 bytes\n",
      "size of encoded text : [b'Your text data here'] : is 52 bytes\n",
      "72\n",
      "b'\\x1f\\x8b\\x08\\x00\\xc1\\xeard\\x02\\xff\\x8b\\xcc/-R(I\\xad(QHI,IT\\xc8H-J\\x05\\x00\\xc1\\xca\\x8c_\\x13\\x00\\x00\\x00'\n",
      "de-compress: Your text data here\n"
     ]
    }
   ],
   "source": [
    "import gzip\n",
    "import sys\n",
    "from pympler import asizeof\n",
    "import json\n",
    "import pandas as pd\n",
    "import seaborn as sns\n",
    "import matplotlib.pyplot as plt\n",
    "\n",
    "text = \"Your text data here\"\n",
    "text_en = text.encode('utf-8')\n",
    "print( f\"size of text: [{text}] : is {sys.getsizeof(text)} bytes\" )\n",
    "print( f\"size of encoded text : [{text_en}] : is {sys.getsizeof( text_en )} bytes\" )\n",
    "\n",
    "text_com = gzip.compress(text.encode('utf-8'))\n",
    "text_en_com = gzip.compress(text_en)\n",
    "print( sys.getsizeof( text_com))\n",
    "print(text_com)\n",
    "\n",
    "print(f\"de-compress: {gzip.decompress(text_com).decode()}\")"
   ]
  },
  {
   "cell_type": "code",
   "execution_count": 54,
   "metadata": {},
   "outputs": [],
   "source": [
    "file_path = \"data.json\"\n",
    "def write_dict_file(data):\n",
    "    d = load_data_file()\n",
    "    if d:\n",
    "        d.extends(data)\n",
    "        # Open the file in wrte mode\n",
    "        with open(file_path , \"w\") as file:\n",
    "            # Write the dictionary as a JSON string to the file\n",
    "            json.dump(d, file)\n",
    "        return True\n",
    "    else: return False\n",
    "\n",
    "def load_data_file():\n",
    "    '''load current data and append new data'''\n",
    "    data = None\n",
    "    with open(file_path, \"r\") as file:\n",
    "        data = json.load(file)\n",
    "    return data"
   ]
  },
  {
   "cell_type": "code",
   "execution_count": 93,
   "metadata": {},
   "outputs": [],
   "source": [
    "from serpapi import GoogleSearch\n",
    "\n",
    "class Authors(object):\n",
    "  def __init__(self) -> None:\n",
    "    '''constructor for the class.'''\n",
    "\n",
    "  def search_scholar(self, ):\n",
    "    '''search author from google scholar...'''\n",
    "    search = GoogleSearch({\n",
    "        \"engine\": \"google_scholar\",\n",
    "        \"q\": \"nlp\",\n",
    "        \"author\": \"Mercy Mpinganjira\",\n",
    "        \"location\": \"south africa\",\n",
    "        \"api_key\": \"623e7e74cde13a07079ea444adbbb7b0fd7070796b34b061e21fc1be638c7c9b\"\n",
    "      })\n",
    "    result = search.get_dict()\n",
    "    return result['organic_results']\n",
    "\n",
    "  def search_author(self, author_id: str ):\n",
    "    '''search result by author'''\n",
    "    search = GoogleSearch({\n",
    "      \"engine\": \"google_scholar_author\",\n",
    "      \"author_id\": author_id,\n",
    "      \"api_key\": \"623e7e74cde13a07079ea444adbbb7b0fd7070796b34b061e21fc1be638c7c9b\"\n",
    "    })\n",
    "    result = search.get_dict()\n",
    "    return result\n",
    "\n",
    "  def get_author_profile(self, names: str):\n",
    "    params = {\n",
    "      \"engine\": \"google_scholar_profiles\",\n",
    "      \"mauthors\": names,\n",
    "      \"api_key\": \"623e7e74cde13a07079ea444adbbb7b0fd7070796b34b061e21fc1be638c7c9b\"\n",
    "    }\n",
    "    search = GoogleSearch(params)\n",
    "    results = search.get_dict()\n",
    "    profiles = results[\"profiles\"]\n",
    "    return profiles"
   ]
  },
  {
   "cell_type": "code",
   "execution_count": 94,
   "metadata": {},
   "outputs": [
    {
     "name": "stdout",
     "output_type": "stream",
     "text": [
      "[{'name': 'Mercy Mpinganjira', 'link': 'https://scholar.google.com/citations?hl=en&user=ry6x3GUAAAAJ', 'serpapi_link': 'https://serpapi.com/search.json?author_id=ry6x3GUAAAAJ&engine=google_scholar_author&hl=en', 'author_id': 'ry6x3GUAAAAJ', 'affiliations': 'Professor, University of Johannesburg', 'email': 'Verified email at uj.ac.za', 'cited_by': 2188, 'interests': [{'title': 'Digital Marketing and Consumer Behaviour', 'serpapi_link': 'https://serpapi.com/search.json?engine=google_scholar_profiles&hl=en&mauthors=label%3Adigital_marketing_and_consumer_behaviour', 'link': 'https://scholar.google.com/citations?hl=en&view_op=search_authors&mauthors=label:digital_marketing_and_consumer_behaviour'}], 'thumbnail': 'https://scholar.googleusercontent.com/citations?view_op=small_photo&user=ry6x3GUAAAAJ&citpid=1'}]\n"
     ]
    }
   ],
   "source": [
    "# \n",
    "a_name = \"Mercy Mpinganjira\"\n",
    "a_obj = Authors()\n",
    "# a_obj.\n",
    "\n",
    "\n",
    "\n",
    "# r = search_author()\n",
    "# print(f\"{r.keys()}\")\n",
    "# r['co_authors']"
   ]
  },
  {
   "cell_type": "code",
   "execution_count": null,
   "metadata": {},
   "outputs": [],
   "source": [
    "# write to file\n",
    "# print(result['organic_results'])\n",
    "available_data = load_data_file()\n",
    "# print(available_data)\n",
    "if available_data:\n",
    "    write_dict_file( result['organic_results'].extend(available_data) )\n",
    "else:\n",
    "    write_dict_file( result['organic_results'] )\n",
    "# write_dict_file( result['organic_results'] )"
   ]
  },
  {
   "cell_type": "code",
   "execution_count": 57,
   "metadata": {},
   "outputs": [
    {
     "name": "stdout",
     "output_type": "stream",
     "text": [
      "dict_keys(['search_metadata', 'search_parameters', 'search_information', 'organic_results', 'related_searches', 'pagination', 'serpapi_pagination'])\n"
     ]
    },
    {
     "data": {
      "text/plain": [
       "20"
      ]
     },
     "execution_count": 57,
     "metadata": {},
     "output_type": "execute_result"
    }
   ],
   "source": [
    "print(result.keys())\n",
    "len( result['organic_results'] )"
   ]
  },
  {
   "cell_type": "code",
   "execution_count": 53,
   "metadata": {},
   "outputs": [
    {
     "data": {
      "text/plain": [
       "{'title': 'Modeling code-switching speech on under-resourced languages for language identification',\n",
       " 'link': 'https://scholar.google.com/citations?view_op=view_citation&hl=en&user=0L3EvQYAAAAJ&citation_for_view=0L3EvQYAAAAJ:UeHWp8X0CEIC',\n",
       " 'citation_id': '0L3EvQYAAAAJ:UeHWp8X0CEIC',\n",
       " 'authors': 'KR Mabokela, MJ Manamela, M Manaileng',\n",
       " 'publication': 'Spoken Language Technologies for Under-Resourced Languages, 2014',\n",
       " 'cited_by': {'value': 26,\n",
       "  'link': 'https://scholar.google.com/scholar?oi=bibs&hl=en&cites=18191802244881488859',\n",
       "  'serpapi_link': 'https://serpapi.com/search.json?cites=18191802244881488859&engine=google_scholar&hl=en',\n",
       "  'cites_id': '18191802244881488859'},\n",
       " 'year': '2014'}"
      ]
     },
     "execution_count": 53,
     "metadata": {},
     "output_type": "execute_result"
    }
   ],
   "source": [
    "# data visualisation\n",
    "with open(\"./articles.json\") as obj:\n",
    "    data = json.load(obj)\n",
    "data[0]"
   ]
  },
  {
   "cell_type": "code",
   "execution_count": 56,
   "metadata": {},
   "outputs": [
    {
     "data": {
      "text/html": [
       "<div>\n",
       "<style scoped>\n",
       "    .dataframe tbody tr th:only-of-type {\n",
       "        vertical-align: middle;\n",
       "    }\n",
       "\n",
       "    .dataframe tbody tr th {\n",
       "        vertical-align: top;\n",
       "    }\n",
       "\n",
       "    .dataframe thead th {\n",
       "        text-align: right;\n",
       "    }\n",
       "</style>\n",
       "<table border=\"1\" class=\"dataframe\">\n",
       "  <thead>\n",
       "    <tr style=\"text-align: right;\">\n",
       "      <th></th>\n",
       "      <th>title</th>\n",
       "      <th>year</th>\n",
       "      <th>cited</th>\n",
       "    </tr>\n",
       "  </thead>\n",
       "  <tbody>\n",
       "    <tr>\n",
       "      <th>0</th>\n",
       "      <td>modeling code-switching speech on under-resour...</td>\n",
       "      <td>2014</td>\n",
       "      <td>26.0</td>\n",
       "    </tr>\n",
       "    <tr>\n",
       "      <th>1</th>\n",
       "      <td>an integrated language identification for code...</td>\n",
       "      <td>2013</td>\n",
       "      <td>8.0</td>\n",
       "    </tr>\n",
       "    <tr>\n",
       "      <th>2</th>\n",
       "      <td>a multilingual asr of sepedi-english code-swit...</td>\n",
       "      <td>2019</td>\n",
       "      <td>3.0</td>\n",
       "    </tr>\n",
       "    <tr>\n",
       "      <th>3</th>\n",
       "      <td>a sentiment corpus for south african under-res...</td>\n",
       "      <td>2022</td>\n",
       "      <td>2.0</td>\n",
       "    </tr>\n",
       "    <tr>\n",
       "      <th>4</th>\n",
       "      <td>phone clustering methods for multilingual lang...</td>\n",
       "      <td>2020</td>\n",
       "      <td>2.0</td>\n",
       "    </tr>\n",
       "  </tbody>\n",
       "</table>\n",
       "</div>"
      ],
      "text/plain": [
       "                                               title  year  cited\n",
       "0  modeling code-switching speech on under-resour...  2014   26.0\n",
       "1  an integrated language identification for code...  2013    8.0\n",
       "2  a multilingual asr of sepedi-english code-swit...  2019    3.0\n",
       "3  a sentiment corpus for south african under-res...  2022    2.0\n",
       "4  phone clustering methods for multilingual lang...  2020    2.0"
      ]
     },
     "execution_count": 56,
     "metadata": {},
     "output_type": "execute_result"
    }
   ],
   "source": [
    "i_features = [{\"title\":d['title'], \"year\":d['year'], 'cited':d['cited_by']['value']} for d in data]\n",
    "\n",
    "ds = pd.DataFrame( i_features )\n",
    "# replace NaN with zero.\n",
    "ds.fillna(0, inplace=True)\n",
    "ds['title'] = ds['title'].apply( lambda x : x.lower() )\n",
    "ds.head()"
   ]
  },
  {
   "cell_type": "code",
   "execution_count": null,
   "metadata": {},
   "outputs": [],
   "source": [
    "fig, ax = plt.subplots(figsize=(10,4))\n",
    "sns.barplot(data=ds, x=\"year\", y=\"cited\", order=sorted(ds['year'].unique()) )\n",
    "plt.title(\"Number Of Citations Per Year\")\n",
    "plt.xlabel(\"Year Of Publication\")\n",
    "plt.ylabel(\"Number Of Citations\")\n",
    "plt.show()"
   ]
  },
  {
   "attachments": {},
   "cell_type": "markdown",
   "metadata": {},
   "source": [
    "## solve clustering using keys words."
   ]
  },
  {
   "cell_type": "code",
   "execution_count": null,
   "metadata": {},
   "outputs": [],
   "source": [
    "# key words\n",
    "_keys_word = {\n",
    "    'software': [\n",
    "        'Machine Learning', 'Deep Learning', 'Neural Networks', 'Natural Language Processing', 'Computer Vision', 'Robotics', 'Data Mining', 'Predictive Analytics', 'Reinforcement Learning', 'Expert Systems', 'Cognitive Computing', 'Big Data', 'Pattern Recognition', 'Intelligent Agents', 'Speech Recognition',  'Image Recognition', 'Knowledge Representation', 'Decision Support Systems', 'Virtual Assistants', 'Autonomous Vehicles', 'NLP', 'CNN', 'RNN', 'TensorFlow', 'LLM', 'GPT', 'ChatGPT', 'Modeling', 'Speech', 'CSV', 'SVM', 'KNN'\n",
    "    ],\n",
    "    'mobile tech': [\n",
    "        'mobile', 'smartphone', 'cellphone', 'tablet', 'iOS', 'Android', 'iPhone', 'iPad', 'Samsung', 'Huawei',\n",
    "        'Google Pixel', 'LG', 'Motorola', 'Nokia', 'Bluetooth', 'Wi-Fi', '5G', 'LTE'\n",
    "    ],\n",
    "    'data science': [\n",
    "        'Data Analysis', 'Data Visualization', 'Data Wrangling', 'Data Engineering', 'Data Integration',\n",
    "        'Data Exploration', 'Data Modeling', 'Data Mining', 'Data Warehousing', 'Machine Learning',\n",
    "        'Statistical Analysis', 'Predictive Analytics', 'Text Mining', 'Time Series Analysis',\n",
    "        'Feature Engineering', 'Dimensionality Reduction', 'Anomaly Detection', 'Clustering', 'Classification',\n",
    "        'Regression', 'Natural Language Processing', 'Computer Vision', 'Big Data', 'Hadoop', 'Spark',\n",
    "        'Python', 'R', 'SQL'\n",
    "    ],\n",
    "    'cybersecurity': [\n",
    "        'Network Security', 'Web Security', 'Information Security', 'Cyber Threats', 'Data Privacy',\n",
    "        'Cryptography', 'Vulnerability Assessment', 'Penetration Testing', 'Identity and Access Management',\n",
    "        'Security Auditing', 'Security Policies', 'Malware Analysis', 'Intrusion Detection', 'Firewalls',\n",
    "        'Secure Coding', 'Security Incident Response', 'Risk Assessment', 'Security Architecture', 'Ethical Hacking',\n",
    "        'Cloud Security', 'IoT Security', 'Cyber Defense', 'SIEM', 'Zero Trust'\n",
    "    ],\n",
    "    'artificial intelligence': [\n",
    "        'Artificial Neural Networks', 'Expert Systems', 'Knowledge Representation', 'Natural Language Processing',\n",
    "        'Computer Vision', 'Robotics', 'Machine Learning', 'Deep Learning', 'Reinforcement Learning',\n",
    "        'Cognitive Computing', 'Genetic Algorithms', 'Swarm Intelligence', 'Fuzzy Logic', 'Speech Recognition',\n",
    "        'Image Recognition', 'Pattern Recognition', 'AI Ethics', 'AI Governance', 'AI Bias', 'AI Explainability',\n",
    "        'AI Applications', 'AI in Healthcare', 'AI in Finance', 'AI in Education', 'AI in Gaming'\n",
    "    ],\n",
    "    'health': [\n",
    "        'Public Health', 'Epidemiology', 'Healthcare Systems', 'Medical Research', 'Health Informatics',\n",
    "        'Health Data Analytics', 'Health Technology', 'Health Policy', 'Disease Prevention', 'Health Promotion',\n",
    "        'Health Disparities', 'Health Behavior', 'Global Health', 'Digital Health', 'Telemedicine',\n",
    "        'Health Monitoring', 'Health Interventions', 'Genomics', 'Precision Medicine', 'Medical Imaging',\n",
    "        'Electronic Health Records', 'Patient Engagement', 'Healthcare Delivery'\n",
    "    ],\n",
    "    'social sciences': [\n",
    "        'Sociology', 'Psychology', 'Anthropology', 'Political Science', 'Economics', 'Social Research',\n",
    "        'Qualitative Research', 'Quantitative Research', 'Survey Methods', 'Data Analysis', 'Social Networks',\n",
    "        'Cultural Studies', 'Gender Studies', 'Race and Ethnicity', 'Social Inequality', 'Social Policy',\n",
    "        'Social Justice', 'Human Behavior', 'Qualitative Interviews', 'Focus Groups', 'Case Studies',\n",
    "        'Demography', 'Social Theory', 'Social Impact', 'Community Development'\n",
    "    ],\n",
    "    'environment': [\n",
    "        'Environmental Science', 'Climate Change', 'Sustainability', 'Conservation', 'Natural Resources',\n",
    "        'Ecology', 'Environmental Policy', 'Renewable Energy', 'Environmental Impact Assessment', 'Green Technology',\n",
    "        'Biodiversity', 'Ecosystems', 'Water Management', 'Air Pollution', 'Waste Management', 'Environmental Ethics',\n",
    "        'Environmental Education', 'Climate Adaptation', 'Environmental Justice', 'Sustainable Development',\n",
    "        'Environmental Modeling', 'Environmental Health', 'Environmental Economics', 'Land Use Planning'\n",
    "    ],\n",
    "    'politics': [\n",
    "        'Political Science', 'Political Theory', 'International Relations', 'Comparative Politics', 'Governance',\n",
    "        'Political Institutions', 'Public Policy', 'Political Economy', 'Political Behavior', 'Political Parties',\n",
    "        'Democracy', 'Political Ideologies', 'Political Campaigns', 'Voting Behavior', 'Policy Analysis',\n",
    "        'Policy Implementation', 'Political Activism', 'Political Communication', 'Political Leadership',\n",
    "        'Political Reform', 'Global Governance', 'Power and Influence', 'Statecraft', 'Foreign Policy',\n",
    "        'Political Sociology'\n",
    "    ]\n",
    "}\n",
    "# \n",
    "# _keys_word"
   ]
  },
  {
   "cell_type": "code",
   "execution_count": 57,
   "metadata": {},
   "outputs": [
    {
     "name": "stdout",
     "output_type": "stream",
     "text": [
      "{'title': 'Modeling code-switching speech on under-resourced languages for language identification', 'link': 'https://scholar.google.com/citations?view_op=view_citation&hl=en&user=0L3EvQYAAAAJ&citation_for_view=0L3EvQYAAAAJ:UeHWp8X0CEIC', 'citation_id': '0L3EvQYAAAAJ:UeHWp8X0CEIC', 'authors': 'KR Mabokela, MJ Manamela, M Manaileng', 'publication': 'Spoken Language Technologies for Under-Resourced Languages, 2014', 'cited_by': {'value': 26, 'link': 'https://scholar.google.com/scholar?oi=bibs&hl=en&cites=18191802244881488859', 'serpapi_link': 'https://serpapi.com/search.json?cites=18191802244881488859&engine=google_scholar&hl=en', 'cites_id': '18191802244881488859'}, 'year': '2014'}\n",
      "{'title': 'An integrated language identification for code-switched speech using decoded-phonemes and support vector machine', 'link': 'https://scholar.google.com/citations?view_op=view_citation&hl=en&user=0L3EvQYAAAAJ&citation_for_view=0L3EvQYAAAAJ:9yKSN-GCB0IC', 'citation_id': '0L3EvQYAAAAJ:9yKSN-GCB0IC', 'authors': 'KR Mabokela, MJD Manamela', 'publication': 'Speech Technology and Human-Computer Dialogue (SpeD), 2013 7th Conference on …, 2013', 'cited_by': {'value': 8, 'link': 'https://scholar.google.com/scholar?oi=bibs&hl=en&cites=11740247122981464723', 'serpapi_link': 'https://serpapi.com/search.json?cites=11740247122981464723&engine=google_scholar&hl=en', 'cites_id': '11740247122981464723'}, 'year': '2013'}\n",
      "{'title': 'A multilingual ASR of Sepedi-English code-switched speech for automatic language identification', 'link': 'https://scholar.google.com/citations?view_op=view_citation&hl=en&user=0L3EvQYAAAAJ&citation_for_view=0L3EvQYAAAAJ:8k81kl-MbHgC', 'citation_id': '0L3EvQYAAAAJ:8k81kl-MbHgC', 'authors': 'KR Mabokela', 'publication': '2019 International Multidisciplinary Information Technology and Engineering …, 2019', 'cited_by': {'value': 3, 'link': 'https://scholar.google.com/scholar?oi=bibs&hl=en&cites=16443532761078473122', 'serpapi_link': 'https://serpapi.com/search.json?cites=16443532761078473122&engine=google_scholar&hl=en', 'cites_id': '16443532761078473122'}, 'year': '2019'}\n",
      "{'title': 'A sentiment corpus for South African under-resourced languages in a multilingual context', 'link': 'https://scholar.google.com/citations?view_op=view_citation&hl=en&user=0L3EvQYAAAAJ&citation_for_view=0L3EvQYAAAAJ:KlAtU1dfN6UC', 'citation_id': '0L3EvQYAAAAJ:KlAtU1dfN6UC', 'authors': 'KR Mabokela, T Schlippe', 'publication': 'Proceedings of the 1st Annual Meeting of the ELRA/ISCA Special Interest …, 2022', 'cited_by': {'value': 2, 'link': 'https://scholar.google.com/scholar?oi=bibs&hl=en&cites=2009324659978304767', 'serpapi_link': 'https://serpapi.com/search.json?cites=2009324659978304767&engine=google_scholar&hl=en', 'cites_id': '2009324659978304767'}, 'year': '2022'}\n",
      "{'title': 'PHONE CLUSTERING METHODS FOR MULTILINGUAL LANGUAGE IDENTIFICATION', 'link': 'https://scholar.google.com/citations?view_op=view_citation&hl=en&user=0L3EvQYAAAAJ&citation_for_view=0L3EvQYAAAAJ:3fE2CSJIrl8C', 'citation_id': '0L3EvQYAAAAJ:3fE2CSJIrl8C', 'authors': 'R Mabokela', 'publication': '9th International Conference on Natural Language Processing (NLP 2020), 2020', 'cited_by': {'value': 2, 'link': 'https://scholar.google.com/scholar?oi=bibs&hl=en&cites=2451355490423463462', 'serpapi_link': 'https://serpapi.com/search.json?cites=2451355490423463462&engine=google_scholar&hl=en', 'cites_id': '2451355490423463462'}, 'year': '2020'}\n",
      "{'title': 'Investigating Sentiment-Bearing Words- and Emoji-based Distant Supervision Approaches for Sentiment Analysis', 'link': 'https://scholar.google.com/citations?view_op=view_citation&hl=en&user=0L3EvQYAAAAJ&citation_for_view=0L3EvQYAAAAJ:qxL8FJ1GzNcC', 'citation_id': '0L3EvQYAAAAJ:qxL8FJ1GzNcC', 'authors': 'KR Mabokela, M Raborife, T Celik', 'publication': 'The fourth workshop on Resources for African Indigenous Languages (RAIL) at …, 2023', 'cited_by': {'value': None, 'link': 'https://scholar.google.com'}, 'year': '2023'}\n",
      "{'title': 'Language-Independent Sentiment Labelling with Distant Supervision: A Case Study for English, Sepedi and Setswana', 'link': 'https://scholar.google.com/citations?view_op=view_citation&hl=en&user=0L3EvQYAAAAJ&citation_for_view=0L3EvQYAAAAJ:M3ejUd6NZC8C', 'citation_id': '0L3EvQYAAAAJ:M3ejUd6NZC8C', 'authors': 'KR Mabokela, T Schlippe, M Raborife, T Celik', 'publication': '10th Language & Technology Conference: Human Language Technologies as a …, 2023', 'cited_by': {'value': None, 'link': 'https://scholar.google.com'}, 'year': '2023'}\n",
      "{'title': 'AI for Social Good: Sentiment Analysis to Detect Social Challenges in South Africa', 'link': 'https://scholar.google.com/citations?view_op=view_citation&hl=en&user=0L3EvQYAAAAJ&citation_for_view=0L3EvQYAAAAJ:Zph67rFs4hoC', 'citation_id': '0L3EvQYAAAAJ:Zph67rFs4hoC', 'authors': 'KR Mabokela, T Schlippe', 'publication': 'Artificial Intelligence Research: Third Southern African Conference, SACAIR …, 2022', 'cited_by': {'value': None, 'link': 'https://scholar.google.com'}, 'year': '2022'}\n",
      "{'title': 'Multilingual Sentiment Analysis for Under-Resourced Languages: A Systematic Review of the Landscape', 'link': 'https://scholar.google.com/citations?view_op=view_citation&hl=en&user=0L3EvQYAAAAJ&citation_for_view=0L3EvQYAAAAJ:_kc_bZDykSQC', 'citation_id': '0L3EvQYAAAAJ:_kc_bZDykSQC', 'authors': 'KR Mabokela, T Celik, M Raborife', 'publication': 'IEEE Access, 2022', 'cited_by': {'value': None, 'link': 'https://scholar.google.com'}, 'year': '2022'}\n",
      "{'title': 'Integration of Phonotactic Features for Language Identification on Code-Switched Speech', 'link': 'https://scholar.google.com/citations?view_op=view_citation&hl=en&user=0L3EvQYAAAAJ&citation_for_view=0L3EvQYAAAAJ:kNdYIx-mwKoC', 'citation_id': '0L3EvQYAAAAJ:kNdYIx-mwKoC', 'authors': 'KR Mabokela', 'publication': 'International Journal on Natural Language Computing (IJNLC) 11 (1), 15-28, 2022', 'cited_by': {'value': None, 'link': 'https://scholar.google.com'}, 'year': '2022'}\n",
      "{'title': 'Automatic Speech Recognition for Under-resourced Languages–A Grapheme-based Approach', 'link': 'https://scholar.google.com/citations?view_op=view_citation&hl=en&user=0L3EvQYAAAAJ&citation_for_view=0L3EvQYAAAAJ:5nxA0vEk-isC', 'citation_id': '0L3EvQYAAAAJ:5nxA0vEk-isC', 'authors': 'M Manaileng, J Manamela, R Mabokela', 'cited_by': {'value': None, 'link': 'https://scholar.google.com'}, 'year': '2014'}\n",
      "{'title': 'Automatic Language Identification Integrated for Code-Switched Speech using Phoneme Strings', 'link': 'https://scholar.google.com/citations?view_op=view_citation&hl=en&user=0L3EvQYAAAAJ&citation_for_view=0L3EvQYAAAAJ:2osOgNQ5qMEC', 'citation_id': '0L3EvQYAAAAJ:2osOgNQ5qMEC', 'authors': 'KR Mabokela, MJD Manamela, TI Modipa', 'publication': 'Southern Africa Telecommunication Networks and Applications Conference …, 2013', 'cited_by': {'value': None, 'link': 'https://scholar.google.com'}, 'year': '2013'}\n",
      "{'title': 'Automatic Language Identification Using Word Segments on Mixed-Language Speech', 'link': 'https://scholar.google.com/citations?view_op=view_citation&hl=en&user=0L3EvQYAAAAJ&citation_for_view=0L3EvQYAAAAJ:d1gkVwhDpl0C', 'citation_id': '0L3EvQYAAAAJ:d1gkVwhDpl0C', 'authors': 'KR Mabokela, MJD Manamela, N Gasela', 'cited_by': {'value': None, 'link': 'https://scholar.google.com'}, 'year': '2012'}\n",
      "{'title': 'Understanding mobile marketing adoption intention by South African SMEs: A multi-perspective framework', 'link': 'https://scholar.google.com/citations?view_op=view_citation&hl=en&user=ry6x3GUAAAAJ&citation_for_view=ry6x3GUAAAAJ:TFP_iSt0sucC', 'citation_id': 'ry6x3GUAAAAJ:TFP_iSt0sucC', 'authors': 'DK Maduku, M Mpinganjira, H Duh', 'publication': 'International Journal of Information Management 36 (5), 711-723, 2016', 'cited_by': {'value': 362, 'link': 'https://scholar.google.com/scholar?oi=bibs&hl=en&cites=12942585782408667539', 'serpapi_link': 'https://serpapi.com/search.json?cites=12942585782408667539&engine=google_scholar&hl=en', 'cites_id': '12942585782408667539'}, 'year': '2016'}\n",
      "{'title': 'Application of the Technology Acceptance Model and the Technology–Organisation–Environment Model to examine social media marketing use in the South African tourism industry', 'link': 'https://scholar.google.com/citations?view_op=view_citation&hl=en&user=ry6x3GUAAAAJ&citation_for_view=ry6x3GUAAAAJ:pqnbT2bcN3wC', 'citation_id': 'ry6x3GUAAAAJ:pqnbT2bcN3wC', 'authors': 'R Matikiti, M Mpinganjira, M Roberts-Lombard', 'publication': 'South African Journal of Information Management 20 (1), 1-12, 2018', 'cited_by': {'value': 146, 'link': 'https://scholar.google.com/scholar?oi=bibs&hl=en&cites=8991538694686829423', 'serpapi_link': 'https://serpapi.com/search.json?cites=8991538694686829423&engine=google_scholar&hl=en', 'cites_id': '8991538694686829423'}, 'year': '2018'}\n",
      "{'title': 'Behavioral consequences of customer inspiration: the role of social media inspirational content and cultural orientation', 'link': 'https://scholar.google.com/citations?view_op=view_citation&hl=en&user=ry6x3GUAAAAJ&citation_for_view=ry6x3GUAAAAJ:D_sINldO8mEC', 'citation_id': 'ry6x3GUAAAAJ:D_sINldO8mEC', 'authors': 'EE Izogo, M Mpinganjira', 'publication': 'Journal of Research in Interactive Marketing 14 (4), 431-459, 2020', 'cited_by': {'value': 87, 'link': 'https://scholar.google.com/scholar?oi=bibs&hl=en&cites=4235408695855897745', 'serpapi_link': 'https://serpapi.com/search.json?cites=4235408695855897745&engine=google_scholar&hl=en', 'cites_id': '4235408695855897745'}, 'year': '2020'}\n",
      "{'title': 'Validating the relationship between trust, commitment, economic and non-economic satisfaction in South African buyer-supplier relationships', 'link': 'https://scholar.google.com/citations?view_op=view_citation&hl=en&user=ry6x3GUAAAAJ&citation_for_view=ry6x3GUAAAAJ:RGFaLdJalmkC', 'citation_id': 'ry6x3GUAAAAJ:RGFaLdJalmkC', 'authors': 'M Mpinganjira, M Roberts-Lombard, G Svensson', 'publication': 'Journal of Business & Industrial Marketing, 2017', 'cited_by': {'value': 74, 'link': 'https://scholar.google.com/scholar?oi=bibs&hl=en&cites=1971367706442030356', 'serpapi_link': 'https://serpapi.com/search.json?cites=1971367706442030356&engine=google_scholar&hl=en', 'cites_id': '1971367706442030356'}, 'year': '2017'}\n",
      "{'title': 'Ethics of mobile behavioral advertising: Antecedents and outcomes of perceived ethical value of advertised brands', 'link': 'https://scholar.google.com/citations?view_op=view_citation&hl=en&user=ry6x3GUAAAAJ&citation_for_view=ry6x3GUAAAAJ:3s1wT3WcHBgC', 'citation_id': 'ry6x3GUAAAAJ:3s1wT3WcHBgC', 'authors': 'M Mpinganjira, DK Maduku', 'publication': 'Journal of Business Research 95, 464-478, 2019', 'cited_by': {'value': 71, 'link': 'https://scholar.google.com/scholar?oi=bibs&hl=en&cites=7753498488895514197', 'serpapi_link': 'https://serpapi.com/search.json?cites=7753498488895514197&engine=google_scholar&hl=en', 'cites_id': '7753498488895514197'}, 'year': '2019'}\n",
      "{'title': 'Comparative analysis of factors influencing the decision to study abroad', 'link': 'https://scholar.google.com/citations?view_op=view_citation&hl=en&user=ry6x3GUAAAAJ&citation_for_view=ry6x3GUAAAAJ:7PzlFSSx8tAC', 'citation_id': 'ry6x3GUAAAAJ:7PzlFSSx8tAC', 'authors': 'M Mpinganjira', 'publication': 'African Journal of Business Management 3 (8), 358, 2009', 'cited_by': {'value': 66, 'link': 'https://scholar.google.com/scholar?oi=bibs&hl=en&cites=16004071255547664095', 'serpapi_link': 'https://serpapi.com/search.json?cites=16004071255547664095&engine=google_scholar&hl=en', 'cites_id': '16004071255547664095'}, 'year': '2009'}\n",
      "{'title': 'Precursors of trust in virtual health communities: A hierarchical investigation', 'link': 'https://scholar.google.com/citations?view_op=view_citation&hl=en&user=ry6x3GUAAAAJ&citation_for_view=ry6x3GUAAAAJ:M05iB0D1s5AC', 'citation_id': 'ry6x3GUAAAAJ:M05iB0D1s5AC', 'authors': 'M Mpinganjira', 'publication': 'Information & Management 55 (6), 686-694, 2018', 'cited_by': {'value': 58, 'link': 'https://scholar.google.com/scholar?oi=bibs&hl=en&cites=17717016786000601113', 'serpapi_link': 'https://serpapi.com/search.json?cites=17717016786000601113&engine=google_scholar&hl=en', 'cites_id': '17717016786000601113'}, 'year': '2018'}\n",
      "{'title': 'Use of e-government services: the role of trust', 'link': 'https://scholar.google.com/citations?view_op=view_citation&hl=en&user=ry6x3GUAAAAJ&citation_for_view=ry6x3GUAAAAJ:_Qo2XoVZTnwC', 'citation_id': 'ry6x3GUAAAAJ:_Qo2XoVZTnwC', 'authors': 'M Mpinganjira', 'publication': 'International Journal of Emerging Markets, 2015', 'cited_by': {'value': 56, 'link': 'https://scholar.google.com/scholar?oi=bibs&hl=en&cites=14352270954496198791', 'serpapi_link': 'https://serpapi.com/search.json?cites=14352270954496198791&engine=google_scholar&hl=en', 'cites_id': '14352270954496198791'}, 'year': '2015'}\n",
      "{'title': 'Modelling green customer loyalty and positive word of mouth: can environmental knowledge make the difference in an emerging market?', 'link': 'https://scholar.google.com/citations?view_op=view_citation&hl=en&user=ry6x3GUAAAAJ&citation_for_view=ry6x3GUAAAAJ:tOudhMTPpwUC', 'citation_id': 'ry6x3GUAAAAJ:tOudhMTPpwUC', 'authors': 'PB Issock Issock, M Mpinganjira, M Roberts-Lombard', 'publication': 'International Journal of Emerging Markets 15 (3), 405-426, 2020', 'cited_by': {'value': 50, 'link': 'https://scholar.google.com/scholar?oi=bibs&hl=en&cites=12213662163348565269', 'serpapi_link': 'https://serpapi.com/search.json?cites=12213662163348565269&engine=google_scholar&hl=en', 'cites_id': '12213662163348565269'}, 'year': '2020'}\n",
      "{'title': 'Drivers of consumer attention to mandatory energy-efficiency labels affixed to home appliances: An emerging market perspective', 'link': 'https://scholar.google.com/citations?view_op=view_citation&hl=en&user=ry6x3GUAAAAJ&citation_for_view=ry6x3GUAAAAJ:u_35RYKgDlwC', 'citation_id': 'ry6x3GUAAAAJ:u_35RYKgDlwC', 'authors': 'PBI Issock, M Mpinganjira, M Roberts-Lombard', 'publication': 'Journal of cleaner production 204, 672-684, 2018', 'cited_by': {'value': 48, 'link': 'https://scholar.google.com/scholar?oi=bibs&hl=en&cites=2412325699542956636', 'serpapi_link': 'https://serpapi.com/search.json?cites=2412325699542956636&engine=google_scholar&hl=en', 'cites_id': '2412325699542956636'}, 'year': '2018'}\n",
      "{'title': 'Online store service convenience, customer satisfaction and behavioural intentions: a focus on utilitarian oriented shoppers', 'link': 'https://scholar.google.com/citations?view_op=view_citation&hl=en&user=ry6x3GUAAAAJ&citation_for_view=ry6x3GUAAAAJ:hFOr9nPyWt4C', 'citation_id': 'ry6x3GUAAAAJ:hFOr9nPyWt4C', 'authors': 'M Mpinganjira', 'publication': 'Journal of Economics and Behavioral Studies 7 (1 (J)), 36-49, 2015', 'cited_by': {'value': 46, 'link': 'https://scholar.google.com/scholar?oi=bibs&hl=en&cites=8512110040444149002', 'serpapi_link': 'https://serpapi.com/search.json?cites=8512110040444149002&engine=google_scholar&hl=en', 'cites_id': '8512110040444149002'}, 'year': '2015'}\n",
      "{'title': 'Understanding online repeat purchase intentions: A relationship marketing perspective', 'link': 'https://scholar.google.com/citations?view_op=view_citation&hl=en&user=ry6x3GUAAAAJ&citation_for_view=ry6x3GUAAAAJ:mVmsd5A6BfQC', 'citation_id': 'ry6x3GUAAAAJ:mVmsd5A6BfQC', 'authors': 'M Mpinganjira', 'publication': 'Management: journal of contemporary management issues 19 (2), 117-135, 2014', 'cited_by': {'value': 37, 'link': 'https://scholar.google.com/scholar?oi=bibs&hl=en&cites=15474398044641666932', 'serpapi_link': 'https://serpapi.com/search.json?cites=15474398044641666932&engine=google_scholar&hl=en', 'cites_id': '15474398044641666932'}, 'year': '2014'}\n",
      "{'title': 'The importance of customer trust for social marketing interventions: a case of energy-efficiency consumption', 'link': 'https://scholar.google.com/citations?view_op=view_citation&hl=en&user=ry6x3GUAAAAJ&citation_for_view=ry6x3GUAAAAJ:tS2w5q8j5-wC', 'citation_id': 'ry6x3GUAAAAJ:tS2w5q8j5-wC', 'authors': 'PB Issock Issock, M Roberts-Lombard, M Mpinganjira', 'publication': 'Journal of Social Marketing 10 (2), 265-286, 2020', 'cited_by': {'value': 36, 'link': 'https://scholar.google.com/scholar?oi=bibs&hl=en&cites=3299874862573844454', 'serpapi_link': 'https://serpapi.com/search.json?cites=3299874862573844454&engine=google_scholar&hl=en', 'cites_id': '3299874862573844454'}, 'year': '2020'}\n",
      "{'title': 'Consumer behaviour: South African psychology and marketing applications', 'link': 'https://scholar.google.com/citations?view_op=view_citation&hl=en&user=ry6x3GUAAAAJ&citation_for_view=ry6x3GUAAAAJ:_xSYboBqXhAC', 'citation_id': 'ry6x3GUAAAAJ:_xSYboBqXhAC', 'authors': 'M Mpinganjira, MAO Dos Santos, E Botha, DA Du Toit, A Erasmus, ...', 'publication': 'Oxford University Press, 2013', 'cited_by': {'value': 35, 'link': 'https://scholar.google.com/scholar?oi=bibs&hl=en&cites=5690744209643253672', 'serpapi_link': 'https://serpapi.com/search.json?cites=5690744209643253672&engine=google_scholar&hl=en', 'cites_id': '5690744209643253672'}, 'year': '2013'}\n",
      "{'title': 'Understanding service quality and patient satisfaction in private medical practice: a case study', 'link': 'https://scholar.google.com/citations?view_op=view_citation&hl=en&user=ry6x3GUAAAAJ&citation_for_view=ry6x3GUAAAAJ:ZHo1McVdvXMC', 'citation_id': 'ry6x3GUAAAAJ:ZHo1McVdvXMC', 'authors': 'M Peer, M Mpinganjira', 'publication': 'African Journal of Business Management 5 (9), 3690-3698, 2011', 'cited_by': {'value': 35, 'link': 'https://scholar.google.com/scholar?oi=bibs&hl=en&cites=13764151919626186594', 'serpapi_link': 'https://serpapi.com/search.json?cites=13764151919626186594&engine=google_scholar&hl=en', 'cites_id': '13764151919626186594'}, 'year': '2011'}\n",
      "{'title': 'Social media in tourism: Establishing factors influencing attitudes towards the usage of social networking sites for trip organisation', 'link': 'https://scholar.google.com/citations?view_op=view_citation&hl=en&user=ry6x3GUAAAAJ&citation_for_view=ry6x3GUAAAAJ:O3NaXMp0MMsC', 'citation_id': 'ry6x3GUAAAAJ:O3NaXMp0MMsC', 'authors': 'R Matikiti, M Mpinganjira, M Roberts-Lombard', 'publication': 'Acta Commercii 17 (1), 1-13, 2017', 'cited_by': {'value': 34, 'link': 'https://scholar.google.com/scholar?oi=bibs&hl=en&cites=17727567389006557905', 'serpapi_link': 'https://serpapi.com/search.json?cites=17727567389006557905&engine=google_scholar&hl=en', 'cites_id': '17727567389006557905'}, 'year': '2017'}\n",
      "{'title': 'Does the collectivism/individualism cultural orientation determine the effect of customer inspiration on customer citizenship behaviors?', 'link': 'https://scholar.google.com/citations?view_op=view_citation&hl=en&user=ry6x3GUAAAAJ&citation_for_view=ry6x3GUAAAAJ:l7t_Zn2s7bgC', 'citation_id': 'ry6x3GUAAAAJ:l7t_Zn2s7bgC', 'authors': 'EE Izogo, M Mpinganjira, FN Ogba', 'publication': 'Journal of Hospitality and Tourism Management 43, 190-198, 2020', 'cited_by': {'value': 33, 'link': 'https://scholar.google.com/scholar?oi=bibs&hl=en&cites=9126649894583294759', 'serpapi_link': 'https://serpapi.com/search.json?cites=9126649894583294759&engine=google_scholar&hl=en', 'cites_id': '9126649894583294759'}, 'year': '2020'}\n",
      "{'title': 'An investigation of perceived service quality in online shopping: A hierarchical approach', 'link': 'https://scholar.google.com/citations?view_op=view_citation&hl=en&user=ry6x3GUAAAAJ&citation_for_view=ry6x3GUAAAAJ:9ZlFYXVOiuMC', 'citation_id': 'ry6x3GUAAAAJ:9ZlFYXVOiuMC', 'authors': 'M Mpinganjira', 'publication': 'Journal of Applied Business Research (JABR) 31 (1), 115-130, 2015', 'cited_by': {'value': 31, 'link': 'https://scholar.google.com/scholar?oi=bibs&hl=en&cites=4873291451229260240', 'serpapi_link': 'https://serpapi.com/search.json?cites=4873291451229260240&engine=google_scholar&hl=en', 'cites_id': '4873291451229260240'}, 'year': '2015'}\n",
      "{'title': \"An empirical investigation into customers' attitude towards usage of cell phone banking in Gauteng, South Africa\", 'link': 'https://scholar.google.com/citations?view_op=view_citation&hl=en&user=ry6x3GUAAAAJ&citation_for_view=ry6x3GUAAAAJ:YsMSGLbcyi4C', 'citation_id': 'ry6x3GUAAAAJ:YsMSGLbcyi4C', 'authors': 'DK Maduku, M Mpinganjira', 'publication': 'Journal of Contemporary Management 9 (1), 172-189, 2012', 'cited_by': {'value': 30, 'link': 'https://scholar.google.com/scholar?oi=bibs&hl=en&cites=15681020474995584713', 'serpapi_link': 'https://serpapi.com/search.json?cites=15681020474995584713&engine=google_scholar&hl=en', 'cites_id': '15681020474995584713'}, 'year': '2012'}\n",
      "{'title': 'Antecedents and outcomes of satisfaction in buyer–supplier relationships in South Africa: A replication study', 'link': 'https://scholar.google.com/citations?view_op=view_citation&hl=en&user=ry6x3GUAAAAJ&citation_for_view=ry6x3GUAAAAJ:70eg2SAEIzsC', 'citation_id': 'ry6x3GUAAAAJ:70eg2SAEIzsC', 'authors': 'G Svensson, M Roberts-Lombard, M Mpinganjira', 'publication': 'South African Journal of Economic and Management Sciences 20 (1), 1-14, 2017', 'cited_by': {'value': 28, 'link': 'https://scholar.google.com/scholar?oi=bibs&hl=en&cites=376700449033422848', 'serpapi_link': 'https://serpapi.com/search.json?cites=376700449033422848&engine=google_scholar&hl=en', 'cites_id': '376700449033422848'}, 'year': '2017'}\n",
      "{'title': 'Factors affecting career choice: Comparison between students from computer and other disciplines', 'link': 'https://scholar.google.com/citations?view_op=view_citation&hl=en&user=VOEjE-wAAAAJ&citation_for_view=VOEjE-wAAAAJ:mlAyqtXpCwEC', 'citation_id': 'VOEjE-wAAAAJ:mlAyqtXpCwEC', 'authors': 'PM Alexander, M Holmner, HH Lotriet, MC Matthee, HV Pieterse, ...', 'publication': 'Journal of Science Education and Technology 20, 300-315, 2011', 'cited_by': {'value': 147, 'link': 'https://scholar.google.com/scholar?oi=bibs&hl=en&cites=10459140117172517975', 'serpapi_link': 'https://serpapi.com/search.json?cites=10459140117172517975&engine=google_scholar&hl=en', 'cites_id': '10459140117172517975'}, 'year': '2011'}\n",
      "{'title': 'E-government implementation: A reflection on South African municipalities', 'link': 'https://scholar.google.com/citations?view_op=view_citation&hl=en&user=VOEjE-wAAAAJ&citation_for_view=VOEjE-wAAAAJ:fFSKOagxvKUC', 'citation_id': 'VOEjE-wAAAAJ:fFSKOagxvKUC', 'authors': 'T Mawela, NM Ochara, H Twinomurinzi', 'publication': 'South African Computer Journal 29 (1), 147-171, 2017', 'cited_by': {'value': 90, 'link': 'https://scholar.google.com/scholar?oi=bibs&hl=en&cites=14843718520824427799', 'serpapi_link': 'https://serpapi.com/search.json?cites=14843718520824427799&engine=google_scholar&hl=en', 'cites_id': '14843718520824427799'}, 'year': '2017'}\n",
      "{'title': 'E-Government & public service delivery: Enabling ICT to put “People First”–A case study from South Africa', 'link': 'https://scholar.google.com/citations?view_op=view_citation&hl=en&user=VOEjE-wAAAAJ&citation_for_view=VOEjE-wAAAAJ:kh2fBNsKQNwC', 'citation_id': 'VOEjE-wAAAAJ:kh2fBNsKQNwC', 'authors': 'H Twinomurinzi, W Visser', 'cited_by': {'value': 63, 'link': 'https://scholar.google.com/scholar?oi=bibs&hl=en&cites=4307494191979227960', 'serpapi_link': 'https://serpapi.com/search.json?cites=4307494191979227960&engine=google_scholar&hl=en', 'cites_id': '4307494191979227960'}, 'year': '2008'}\n",
      "{'title': 'The small group subtlety of using ICT for participatory governance: A South African experience', 'link': 'https://scholar.google.com/citations?view_op=view_citation&hl=en&user=VOEjE-wAAAAJ&citation_for_view=VOEjE-wAAAAJ:nZcligLrVowC', 'citation_id': 'VOEjE-wAAAAJ:nZcligLrVowC', 'authors': 'H Twinomurinzi, J Phahlamohlaka, E Byrne', 'publication': 'Government Information Quarterly 29 (2), 203-211, 2012', 'cited_by': {'value': 44, 'link': 'https://scholar.google.com/scholar?oi=bibs&hl=en&cites=17811975062807039922', 'serpapi_link': 'https://serpapi.com/search.json?cites=17811975062807039922&engine=google_scholar&hl=en', 'cites_id': '17811975062807039922'}, 'year': '2012'}\n",
      "{'title': 'Mobile apps usage and dynamic capabilities: A structural equation model of SMEs in Lagos, Nigeria', 'link': 'https://scholar.google.com/citations?view_op=view_citation&hl=en&user=VOEjE-wAAAAJ&citation_for_view=VOEjE-wAAAAJ:Aul-kAQHnToC', 'citation_id': 'VOEjE-wAAAAJ:Aul-kAQHnToC', 'authors': 'A Owoseni, H Twinomurinzi', 'publication': 'Telematics and Informatics 35 (7), 2067-2081, 2018', 'cited_by': {'value': 38, 'link': 'https://scholar.google.com/scholar?oi=bibs&hl=en&cites=2319705366816193574', 'serpapi_link': 'https://serpapi.com/search.json?cites=2319705366816193574&engine=google_scholar&hl=en', 'cites_id': '2319705366816193574'}, 'year': '2018'}\n",
      "{'title': 'Impact of culture on e-government adoption using UTAUT: A case of Zambia', 'link': 'https://scholar.google.com/citations?view_op=view_citation&hl=en&user=VOEjE-wAAAAJ&citation_for_view=VOEjE-wAAAAJ:ZzlSgRqYykMC', 'citation_id': 'VOEjE-wAAAAJ:ZzlSgRqYykMC', 'authors': 'Y Yavwa, H Twinomurinzi', 'publication': '2018 International Conference on eDemocracy & eGovernment (ICEDEG), 356-360, 2018', 'cited_by': {'value': 23, 'link': 'https://scholar.google.com/scholar?oi=bibs&hl=en&cites=6850472764935060266', 'serpapi_link': 'https://serpapi.com/search.json?cites=6850472764935060266&engine=google_scholar&hl=en', 'cites_id': '6850472764935060266'}, 'year': '2018'}\n",
      "{'title': 'A systematic literature review of open government data research: Challenges, opportunities and gaps', 'link': 'https://scholar.google.com/citations?view_op=view_citation&hl=en&user=VOEjE-wAAAAJ&citation_for_view=VOEjE-wAAAAJ:lvd772isFD0C', 'citation_id': 'VOEjE-wAAAAJ:lvd772isFD0C', 'authors': 'MIA Hassan, H Twinomurinzi', 'publication': '2018 Open Innovations Conference (OI), 299-304, 2018', 'cited_by': {'value': 22, 'link': 'https://scholar.google.com/scholar?oi=bibs&hl=en&cites=14635699930804257755', 'serpapi_link': 'https://serpapi.com/search.json?cites=14635699930804257755&engine=google_scholar&hl=en', 'cites_id': '14635699930804257755'}, 'year': '2018'}\n",
      "{'title': 'Changing thoughts towards digital literacy interventions for South African entrepreneurs', 'link': 'https://scholar.google.com/citations?view_op=view_citation&hl=en&user=VOEjE-wAAAAJ&citation_for_view=VOEjE-wAAAAJ:1Ye0OR6EYb4C', 'citation_id': 'VOEjE-wAAAAJ:1Ye0OR6EYb4C', 'authors': 'RA Steyn', 'publication': 'Reading & Writing-Journal of the Reading Association of South Africa 9 (1), 1-9, 2018', 'cited_by': {'value': 18, 'link': 'https://scholar.google.com/scholar?oi=bibs&hl=en&cites=4829186024710980697', 'serpapi_link': 'https://serpapi.com/search.json?cites=4829186024710980697&engine=google_scholar&hl=en', 'cites_id': '4829186024710980697'}, 'year': '2018'}\n",
      "{'title': 'The dynamic capabilities of small and medium‐scale enterprises using mobile apps in Lagos, Nigeria', 'link': 'https://scholar.google.com/citations?view_op=view_citation&hl=en&user=VOEjE-wAAAAJ&citation_for_view=VOEjE-wAAAAJ:5MTHONV0fEkC', 'citation_id': 'VOEjE-wAAAAJ:5MTHONV0fEkC', 'authors': 'A Owoseni, H Twinomurinzi', 'publication': 'The Electronic Journal of Information Systems in Developing Countries 85 (1 …, 2019', 'cited_by': {'value': 17, 'link': 'https://scholar.google.com/scholar?oi=bibs&hl=en&cites=13669725370106281751', 'serpapi_link': 'https://serpapi.com/search.json?cites=13669725370106281751&engine=google_scholar&hl=en', 'cites_id': '13669725370106281751'}, 'year': '2019'}\n",
      "{'title': 'E-government implementation: Lessons from South African municipalities', 'link': 'https://scholar.google.com/citations?view_op=view_citation&hl=en&user=VOEjE-wAAAAJ&citation_for_view=VOEjE-wAAAAJ:6ZxmRoH8BuwC', 'citation_id': 'VOEjE-wAAAAJ:6ZxmRoH8BuwC', 'authors': 'T Mawela, NM Ochara, H Twinomurinzi', 'publication': 'Proceedings of the Annual Conference of the South African Institute of …, 2016', 'cited_by': {'value': 17, 'link': 'https://scholar.google.com/scholar?oi=bibs&hl=en&cites=8714054145136262563', 'serpapi_link': 'https://serpapi.com/search.json?cites=8714054145136262563&engine=google_scholar&hl=en', 'cites_id': '8714054145136262563'}, 'year': '2016'}\n",
      "{'title': 'Changing career choice factors as the economic environment changes', 'link': 'https://scholar.google.com/citations?view_op=view_citation&hl=en&user=VOEjE-wAAAAJ&citation_for_view=VOEjE-wAAAAJ:LO7wyVUgiFcC', 'citation_id': 'VOEjE-wAAAAJ:LO7wyVUgiFcC', 'authors': 'PM Alexander, H Twinomurinzi', 'publication': 'Proceedings of the South African Institute for Computer Scientists and …, 2012', 'cited_by': {'value': 15, 'link': 'https://scholar.google.com/scholar?oi=bibs&hl=en&cites=6298332624203407290', 'serpapi_link': 'https://serpapi.com/search.json?cites=6298332624203407290&engine=google_scholar&hl=en', 'cites_id': '6298332624203407290'}, 'year': '2012'}\n",
      "{'title': 'SMME readiness for smart manufacturing (4IR) adoption: A systematic review', 'link': 'https://scholar.google.com/citations?view_op=view_citation&hl=en&user=VOEjE-wAAAAJ&citation_for_view=VOEjE-wAAAAJ:zCSUwVk65WsC', 'citation_id': 'VOEjE-wAAAAJ:zCSUwVk65WsC', 'authors': 'L Gumbi, H Twinomurinzi', 'publication': 'Responsible Design, Implementation and Use of Information and Communication …, 2020', 'cited_by': {'value': 14, 'link': 'https://scholar.google.com/scholar?oi=bibs&hl=en&cites=18428411796979526716', 'serpapi_link': 'https://serpapi.com/search.json?cites=18428411796979526716&engine=google_scholar&hl=en', 'cites_id': '18428411796979526716'}, 'year': '2020'}\n",
      "{'title': 'Exploring public sector planning for transformational government', 'link': 'https://scholar.google.com/citations?view_op=view_citation&hl=en&user=VOEjE-wAAAAJ&citation_for_view=VOEjE-wAAAAJ:ruyezt5ZtCIC', 'citation_id': 'VOEjE-wAAAAJ:ruyezt5ZtCIC', 'authors': 'T Mawela, H Twinomurinzi, NM Ochara', 'publication': 'Journal of Science and Technology Policy Management 8 (3), 352-374, 2017', 'cited_by': {'value': 14, 'link': 'https://scholar.google.com/scholar?oi=bibs&hl=en&cites=1524044089746130181', 'serpapi_link': 'https://serpapi.com/search.json?cites=1524044089746130181&engine=google_scholar&hl=en', 'cites_id': '1524044089746130181'}, 'year': '2017'}\n",
      "{'title': 'Employee perceptions of BYOD in South Africa: Employers are turning a blind eye?', 'link': 'https://scholar.google.com/citations?view_op=view_citation&hl=en&user=VOEjE-wAAAAJ&citation_for_view=VOEjE-wAAAAJ:PVjk1bu6vJQC', 'citation_id': 'VOEjE-wAAAAJ:PVjk1bu6vJQC', 'authors': 'H Twinomurinzi, T Mawela', 'publication': 'Proceedings of the Southern African Institute for Computer Scientist and …, 2014', 'cited_by': {'value': 14, 'link': 'https://scholar.google.com/scholar?oi=bibs&hl=en&cites=3932380756156346231', 'serpapi_link': 'https://serpapi.com/search.json?cites=3932380756156346231&engine=google_scholar&hl=en', 'cites_id': '3932380756156346231'}, 'year': '2014'}\n",
      "{'title': 'The role of ICT in sustainable and responsible development: E-skilling', 'link': 'https://scholar.google.com/citations?view_op=view_citation&hl=en&user=VOEjE-wAAAAJ&citation_for_view=VOEjE-wAAAAJ:DJbcl8HfkQkC', 'citation_id': 'VOEjE-wAAAAJ:DJbcl8HfkQkC', 'authors': 'H Twinomurinzi', 'publication': 'ICT Critical Infrastructures and Society: 10th IFIP TC 9 International …, 2012', 'cited_by': {'value': 14, 'link': 'https://scholar.google.com/scholar?oi=bibs&hl=en&cites=13282341858628027039', 'serpapi_link': 'https://serpapi.com/search.json?cites=13282341858628027039&engine=google_scholar&hl=en', 'cites_id': '13282341858628027039'}, 'year': '2012'}\n",
      "{'title': 'Towards a shared worldview on e-skills: A discourse between government, industry and academia on the ICT skills paradox', 'link': 'https://scholar.google.com/citations?view_op=view_citation&hl=en&user=VOEjE-wAAAAJ&citation_for_view=VOEjE-wAAAAJ:yqoGN6RLRZoC', 'citation_id': 'VOEjE-wAAAAJ:yqoGN6RLRZoC', 'authors': 'H Twinomurinz, A Schofield, L Hagen, S Ditsoane-Molefe, ...', 'publication': 'South African Computer Journal 29 (3), 215-237, 2017', 'cited_by': {'value': 13, 'link': 'https://scholar.google.com/scholar?oi=bibs&hl=en&cites=7762691861464098207', 'serpapi_link': 'https://serpapi.com/search.json?cites=7762691861464098207&engine=google_scholar&hl=en', 'cites_id': '7762691861464098207'}, 'year': '2017'}\n",
      "{'title': 'Evaluating mobile app usage by service sector micro and small enterprises in Nigeria: An abductive approach', 'link': 'https://scholar.google.com/citations?view_op=view_citation&hl=en&user=VOEjE-wAAAAJ&citation_for_view=VOEjE-wAAAAJ:1lhNe0rCu4AC', 'citation_id': 'VOEjE-wAAAAJ:1lhNe0rCu4AC', 'authors': 'A Owoseni, H Twinomurinzi', 'publication': 'Information Technology for Development 26 (4), 762-772, 2020', 'cited_by': {'value': 12, 'link': 'https://scholar.google.com/scholar?oi=bibs&hl=en&cites=18193769739377729690', 'serpapi_link': 'https://serpapi.com/search.json?cites=18193769739377729690&engine=google_scholar&hl=en', 'cites_id': '18193769739377729690'}, 'year': '2020'}\n",
      "{'title': 'Missed opportunities for introducing transformational government: Assessing the contentious e-toll project in South Africa', 'link': 'https://scholar.google.com/citations?view_op=view_citation&hl=en&user=VOEjE-wAAAAJ&citation_for_view=VOEjE-wAAAAJ:S16KYo8Pm5AC', 'citation_id': 'VOEjE-wAAAAJ:S16KYo8Pm5AC', 'authors': 'T Mawela, NM Ochara, H Twinomurinzi', 'publication': 'Transforming Government: People, Process and Policy 10 (1), 168-188, 2016', 'cited_by': {'value': 11, 'link': 'https://scholar.google.com/scholar?oi=bibs&hl=en&cites=226046829876865120', 'serpapi_link': 'https://serpapi.com/search.json?cites=226046829876865120&engine=google_scholar&hl=en', 'cites_id': '226046829876865120'}, 'year': '2016'}\n",
      "{'title': 'The role of SME dynamic capabilities on the evaluation of existing ICT', 'link': 'https://scholar.google.com/citations?view_op=view_citation&hl=en&user=VOEjE-wAAAAJ&citation_for_view=VOEjE-wAAAAJ:AHdEip9mkN0C', 'citation_id': 'VOEjE-wAAAAJ:AHdEip9mkN0C', 'authors': 'E Kademeteme, H Twinomurinzi', 'publication': 'Proceedings of the South African Institute of Computer Scientists and …, 2019', 'cited_by': {'value': 10, 'link': 'https://scholar.google.com/scholar?oi=bibs&hl=en&cites=148879085579604366', 'serpapi_link': 'https://serpapi.com/search.json?cites=148879085579604366&engine=google_scholar&hl=en', 'cites_id': '148879085579604366'}, 'year': '2019'}\n",
      "{'title': 'Corruption in developing countries and ICT: the urgent need for work systems to precede e-government', 'link': 'https://scholar.google.com/citations?view_op=view_citation&hl=en&user=VOEjE-wAAAAJ&citation_for_view=VOEjE-wAAAAJ:YohjEiUPhakC', 'citation_id': 'VOEjE-wAAAAJ:YohjEiUPhakC', 'authors': 'H Twinomurinzi, KB Ghartey Tagoe', 'cited_by': {'value': 10, 'link': 'https://scholar.google.com/scholar?oi=bibs&hl=en&cites=4661582130044037540', 'serpapi_link': 'https://serpapi.com/search.json?cites=4661582130044037540&engine=google_scholar&hl=en', 'cites_id': '4661582130044037540'}, 'year': '2011'}\n",
      "{'title': 'Modeling code-switching speech on under-resourced languages for language identification', 'link': 'https://scholar.google.com/citations?view_op=view_citation&hl=en&user=0L3EvQYAAAAJ&citation_for_view=0L3EvQYAAAAJ:UeHWp8X0CEIC', 'citation_id': '0L3EvQYAAAAJ:UeHWp8X0CEIC', 'authors': 'KR Mabokela, MJ Manamela, M Manaileng', 'publication': 'Spoken Language Technologies for Under-Resourced Languages, 2014', 'cited_by': {'value': 26, 'link': 'https://scholar.google.com/scholar?oi=bibs&hl=en&cites=18191802244881488859', 'serpapi_link': 'https://serpapi.com/search.json?cites=18191802244881488859&engine=google_scholar&hl=en', 'cites_id': '18191802244881488859'}, 'year': '2014'}\n",
      "{'title': 'An integrated language identification for code-switched speech using decoded-phonemes and support vector machine', 'link': 'https://scholar.google.com/citations?view_op=view_citation&hl=en&user=0L3EvQYAAAAJ&citation_for_view=0L3EvQYAAAAJ:9yKSN-GCB0IC', 'citation_id': '0L3EvQYAAAAJ:9yKSN-GCB0IC', 'authors': 'KR Mabokela, MJD Manamela', 'publication': 'Speech Technology and Human-Computer Dialogue (SpeD), 2013 7th Conference on …, 2013', 'cited_by': {'value': 8, 'link': 'https://scholar.google.com/scholar?oi=bibs&hl=en&cites=11740247122981464723', 'serpapi_link': 'https://serpapi.com/search.json?cites=11740247122981464723&engine=google_scholar&hl=en', 'cites_id': '11740247122981464723'}, 'year': '2013'}\n",
      "{'title': 'A multilingual ASR of Sepedi-English code-switched speech for automatic language identification', 'link': 'https://scholar.google.com/citations?view_op=view_citation&hl=en&user=0L3EvQYAAAAJ&citation_for_view=0L3EvQYAAAAJ:8k81kl-MbHgC', 'citation_id': '0L3EvQYAAAAJ:8k81kl-MbHgC', 'authors': 'KR Mabokela', 'publication': '2019 International Multidisciplinary Information Technology and Engineering …, 2019', 'cited_by': {'value': 3, 'link': 'https://scholar.google.com/scholar?oi=bibs&hl=en&cites=16443532761078473122', 'serpapi_link': 'https://serpapi.com/search.json?cites=16443532761078473122&engine=google_scholar&hl=en', 'cites_id': '16443532761078473122'}, 'year': '2019'}\n",
      "{'title': 'A sentiment corpus for South African under-resourced languages in a multilingual context', 'link': 'https://scholar.google.com/citations?view_op=view_citation&hl=en&user=0L3EvQYAAAAJ&citation_for_view=0L3EvQYAAAAJ:KlAtU1dfN6UC', 'citation_id': '0L3EvQYAAAAJ:KlAtU1dfN6UC', 'authors': 'KR Mabokela, T Schlippe', 'publication': 'Proceedings of the 1st Annual Meeting of the ELRA/ISCA Special Interest …, 2022', 'cited_by': {'value': 2, 'link': 'https://scholar.google.com/scholar?oi=bibs&hl=en&cites=2009324659978304767', 'serpapi_link': 'https://serpapi.com/search.json?cites=2009324659978304767&engine=google_scholar&hl=en', 'cites_id': '2009324659978304767'}, 'year': '2022'}\n",
      "{'title': 'PHONE CLUSTERING METHODS FOR MULTILINGUAL LANGUAGE IDENTIFICATION', 'link': 'https://scholar.google.com/citations?view_op=view_citation&hl=en&user=0L3EvQYAAAAJ&citation_for_view=0L3EvQYAAAAJ:3fE2CSJIrl8C', 'citation_id': '0L3EvQYAAAAJ:3fE2CSJIrl8C', 'authors': 'R Mabokela', 'publication': '9th International Conference on Natural Language Processing (NLP 2020), 2020', 'cited_by': {'value': 2, 'link': 'https://scholar.google.com/scholar?oi=bibs&hl=en&cites=2451355490423463462', 'serpapi_link': 'https://serpapi.com/search.json?cites=2451355490423463462&engine=google_scholar&hl=en', 'cites_id': '2451355490423463462'}, 'year': '2020'}\n",
      "{'title': 'Investigating Sentiment-Bearing Words- and Emoji-based Distant Supervision Approaches for Sentiment Analysis', 'link': 'https://scholar.google.com/citations?view_op=view_citation&hl=en&user=0L3EvQYAAAAJ&citation_for_view=0L3EvQYAAAAJ:qxL8FJ1GzNcC', 'citation_id': '0L3EvQYAAAAJ:qxL8FJ1GzNcC', 'authors': 'KR Mabokela, M Raborife, T Celik', 'publication': 'The fourth workshop on Resources for African Indigenous Languages (RAIL) at …, 2023', 'cited_by': {'value': None, 'link': 'https://scholar.google.com'}, 'year': '2023'}\n",
      "{'title': 'Language-Independent Sentiment Labelling with Distant Supervision: A Case Study for English, Sepedi and Setswana', 'link': 'https://scholar.google.com/citations?view_op=view_citation&hl=en&user=0L3EvQYAAAAJ&citation_for_view=0L3EvQYAAAAJ:M3ejUd6NZC8C', 'citation_id': '0L3EvQYAAAAJ:M3ejUd6NZC8C', 'authors': 'KR Mabokela, T Schlippe, M Raborife, T Celik', 'publication': '10th Language & Technology Conference: Human Language Technologies as a …, 2023', 'cited_by': {'value': None, 'link': 'https://scholar.google.com'}, 'year': '2023'}\n",
      "{'title': 'AI for Social Good: Sentiment Analysis to Detect Social Challenges in South Africa', 'link': 'https://scholar.google.com/citations?view_op=view_citation&hl=en&user=0L3EvQYAAAAJ&citation_for_view=0L3EvQYAAAAJ:Zph67rFs4hoC', 'citation_id': '0L3EvQYAAAAJ:Zph67rFs4hoC', 'authors': 'KR Mabokela, T Schlippe', 'publication': 'Artificial Intelligence Research: Third Southern African Conference, SACAIR …, 2022', 'cited_by': {'value': None, 'link': 'https://scholar.google.com'}, 'year': '2022'}\n",
      "{'title': 'Multilingual Sentiment Analysis for Under-Resourced Languages: A Systematic Review of the Landscape', 'link': 'https://scholar.google.com/citations?view_op=view_citation&hl=en&user=0L3EvQYAAAAJ&citation_for_view=0L3EvQYAAAAJ:_kc_bZDykSQC', 'citation_id': '0L3EvQYAAAAJ:_kc_bZDykSQC', 'authors': 'KR Mabokela, T Celik, M Raborife', 'publication': 'IEEE Access, 2022', 'cited_by': {'value': None, 'link': 'https://scholar.google.com'}, 'year': '2022'}\n",
      "{'title': 'Integration of Phonotactic Features for Language Identification on Code-Switched Speech', 'link': 'https://scholar.google.com/citations?view_op=view_citation&hl=en&user=0L3EvQYAAAAJ&citation_for_view=0L3EvQYAAAAJ:kNdYIx-mwKoC', 'citation_id': '0L3EvQYAAAAJ:kNdYIx-mwKoC', 'authors': 'KR Mabokela', 'publication': 'International Journal on Natural Language Computing (IJNLC) 11 (1), 15-28, 2022', 'cited_by': {'value': None, 'link': 'https://scholar.google.com'}, 'year': '2022'}\n",
      "{'title': 'Automatic Speech Recognition for Under-resourced Languages–A Grapheme-based Approach', 'link': 'https://scholar.google.com/citations?view_op=view_citation&hl=en&user=0L3EvQYAAAAJ&citation_for_view=0L3EvQYAAAAJ:5nxA0vEk-isC', 'citation_id': '0L3EvQYAAAAJ:5nxA0vEk-isC', 'authors': 'M Manaileng, J Manamela, R Mabokela', 'cited_by': {'value': None, 'link': 'https://scholar.google.com'}, 'year': '2014'}\n",
      "{'title': 'Automatic Language Identification Integrated for Code-Switched Speech using Phoneme Strings', 'link': 'https://scholar.google.com/citations?view_op=view_citation&hl=en&user=0L3EvQYAAAAJ&citation_for_view=0L3EvQYAAAAJ:2osOgNQ5qMEC', 'citation_id': '0L3EvQYAAAAJ:2osOgNQ5qMEC', 'authors': 'KR Mabokela, MJD Manamela, TI Modipa', 'publication': 'Southern Africa Telecommunication Networks and Applications Conference …, 2013', 'cited_by': {'value': None, 'link': 'https://scholar.google.com'}, 'year': '2013'}\n",
      "{'title': 'Automatic Language Identification Using Word Segments on Mixed-Language Speech', 'link': 'https://scholar.google.com/citations?view_op=view_citation&hl=en&user=0L3EvQYAAAAJ&citation_for_view=0L3EvQYAAAAJ:d1gkVwhDpl0C', 'citation_id': '0L3EvQYAAAAJ:d1gkVwhDpl0C', 'authors': 'KR Mabokela, MJD Manamela, N Gasela', 'cited_by': {'value': None, 'link': 'https://scholar.google.com'}, 'year': '2012'}\n",
      "{'title': 'Modeling code-switching speech on under-resourced languages for language identification', 'link': 'https://scholar.google.com/citations?view_op=view_citation&hl=en&user=0L3EvQYAAAAJ&citation_for_view=0L3EvQYAAAAJ:UeHWp8X0CEIC', 'citation_id': '0L3EvQYAAAAJ:UeHWp8X0CEIC', 'authors': 'KR Mabokela, MJ Manamela, M Manaileng', 'publication': 'Spoken Language Technologies for Under-Resourced Languages, 2014', 'cited_by': {'value': 26, 'link': 'https://scholar.google.com/scholar?oi=bibs&hl=en&cites=18191802244881488859', 'serpapi_link': 'https://serpapi.com/search.json?cites=18191802244881488859&engine=google_scholar&hl=en', 'cites_id': '18191802244881488859'}, 'year': '2014'}\n",
      "{'title': 'An integrated language identification for code-switched speech using decoded-phonemes and support vector machine', 'link': 'https://scholar.google.com/citations?view_op=view_citation&hl=en&user=0L3EvQYAAAAJ&citation_for_view=0L3EvQYAAAAJ:9yKSN-GCB0IC', 'citation_id': '0L3EvQYAAAAJ:9yKSN-GCB0IC', 'authors': 'KR Mabokela, MJD Manamela', 'publication': 'Speech Technology and Human-Computer Dialogue (SpeD), 2013 7th Conference on …, 2013', 'cited_by': {'value': 8, 'link': 'https://scholar.google.com/scholar?oi=bibs&hl=en&cites=11740247122981464723', 'serpapi_link': 'https://serpapi.com/search.json?cites=11740247122981464723&engine=google_scholar&hl=en', 'cites_id': '11740247122981464723'}, 'year': '2013'}\n",
      "{'title': 'A multilingual ASR of Sepedi-English code-switched speech for automatic language identification', 'link': 'https://scholar.google.com/citations?view_op=view_citation&hl=en&user=0L3EvQYAAAAJ&citation_for_view=0L3EvQYAAAAJ:8k81kl-MbHgC', 'citation_id': '0L3EvQYAAAAJ:8k81kl-MbHgC', 'authors': 'KR Mabokela', 'publication': '2019 International Multidisciplinary Information Technology and Engineering …, 2019', 'cited_by': {'value': 3, 'link': 'https://scholar.google.com/scholar?oi=bibs&hl=en&cites=16443532761078473122', 'serpapi_link': 'https://serpapi.com/search.json?cites=16443532761078473122&engine=google_scholar&hl=en', 'cites_id': '16443532761078473122'}, 'year': '2019'}\n",
      "{'title': 'A sentiment corpus for South African under-resourced languages in a multilingual context', 'link': 'https://scholar.google.com/citations?view_op=view_citation&hl=en&user=0L3EvQYAAAAJ&citation_for_view=0L3EvQYAAAAJ:KlAtU1dfN6UC', 'citation_id': '0L3EvQYAAAAJ:KlAtU1dfN6UC', 'authors': 'KR Mabokela, T Schlippe', 'publication': 'Proceedings of the 1st Annual Meeting of the ELRA/ISCA Special Interest …, 2022', 'cited_by': {'value': 2, 'link': 'https://scholar.google.com/scholar?oi=bibs&hl=en&cites=2009324659978304767', 'serpapi_link': 'https://serpapi.com/search.json?cites=2009324659978304767&engine=google_scholar&hl=en', 'cites_id': '2009324659978304767'}, 'year': '2022'}\n",
      "{'title': 'PHONE CLUSTERING METHODS FOR MULTILINGUAL LANGUAGE IDENTIFICATION', 'link': 'https://scholar.google.com/citations?view_op=view_citation&hl=en&user=0L3EvQYAAAAJ&citation_for_view=0L3EvQYAAAAJ:3fE2CSJIrl8C', 'citation_id': '0L3EvQYAAAAJ:3fE2CSJIrl8C', 'authors': 'R Mabokela', 'publication': '9th International Conference on Natural Language Processing (NLP 2020), 2020', 'cited_by': {'value': 2, 'link': 'https://scholar.google.com/scholar?oi=bibs&hl=en&cites=2451355490423463462', 'serpapi_link': 'https://serpapi.com/search.json?cites=2451355490423463462&engine=google_scholar&hl=en', 'cites_id': '2451355490423463462'}, 'year': '2020'}\n",
      "{'title': 'Investigating Sentiment-Bearing Words- and Emoji-based Distant Supervision Approaches for Sentiment Analysis', 'link': 'https://scholar.google.com/citations?view_op=view_citation&hl=en&user=0L3EvQYAAAAJ&citation_for_view=0L3EvQYAAAAJ:qxL8FJ1GzNcC', 'citation_id': '0L3EvQYAAAAJ:qxL8FJ1GzNcC', 'authors': 'KR Mabokela, M Raborife, T Celik', 'publication': 'The fourth workshop on Resources for African Indigenous Languages (RAIL) at …, 2023', 'cited_by': {'value': None, 'link': 'https://scholar.google.com'}, 'year': '2023'}\n",
      "{'title': 'Language-Independent Sentiment Labelling with Distant Supervision: A Case Study for English, Sepedi and Setswana', 'link': 'https://scholar.google.com/citations?view_op=view_citation&hl=en&user=0L3EvQYAAAAJ&citation_for_view=0L3EvQYAAAAJ:M3ejUd6NZC8C', 'citation_id': '0L3EvQYAAAAJ:M3ejUd6NZC8C', 'authors': 'KR Mabokela, T Schlippe, M Raborife, T Celik', 'publication': '10th Language & Technology Conference: Human Language Technologies as a …, 2023', 'cited_by': {'value': None, 'link': 'https://scholar.google.com'}, 'year': '2023'}\n",
      "{'title': 'AI for Social Good: Sentiment Analysis to Detect Social Challenges in South Africa', 'link': 'https://scholar.google.com/citations?view_op=view_citation&hl=en&user=0L3EvQYAAAAJ&citation_for_view=0L3EvQYAAAAJ:Zph67rFs4hoC', 'citation_id': '0L3EvQYAAAAJ:Zph67rFs4hoC', 'authors': 'KR Mabokela, T Schlippe', 'publication': 'Artificial Intelligence Research: Third Southern African Conference, SACAIR …, 2022', 'cited_by': {'value': None, 'link': 'https://scholar.google.com'}, 'year': '2022'}\n",
      "{'title': 'Multilingual Sentiment Analysis for Under-Resourced Languages: A Systematic Review of the Landscape', 'link': 'https://scholar.google.com/citations?view_op=view_citation&hl=en&user=0L3EvQYAAAAJ&citation_for_view=0L3EvQYAAAAJ:_kc_bZDykSQC', 'citation_id': '0L3EvQYAAAAJ:_kc_bZDykSQC', 'authors': 'KR Mabokela, T Celik, M Raborife', 'publication': 'IEEE Access, 2022', 'cited_by': {'value': None, 'link': 'https://scholar.google.com'}, 'year': '2022'}\n",
      "{'title': 'Integration of Phonotactic Features for Language Identification on Code-Switched Speech', 'link': 'https://scholar.google.com/citations?view_op=view_citation&hl=en&user=0L3EvQYAAAAJ&citation_for_view=0L3EvQYAAAAJ:kNdYIx-mwKoC', 'citation_id': '0L3EvQYAAAAJ:kNdYIx-mwKoC', 'authors': 'KR Mabokela', 'publication': 'International Journal on Natural Language Computing (IJNLC) 11 (1), 15-28, 2022', 'cited_by': {'value': None, 'link': 'https://scholar.google.com'}, 'year': '2022'}\n",
      "{'title': 'Automatic Speech Recognition for Under-resourced Languages–A Grapheme-based Approach', 'link': 'https://scholar.google.com/citations?view_op=view_citation&hl=en&user=0L3EvQYAAAAJ&citation_for_view=0L3EvQYAAAAJ:5nxA0vEk-isC', 'citation_id': '0L3EvQYAAAAJ:5nxA0vEk-isC', 'authors': 'M Manaileng, J Manamela, R Mabokela', 'cited_by': {'value': None, 'link': 'https://scholar.google.com'}, 'year': '2014'}\n",
      "{'title': 'Automatic Language Identification Integrated for Code-Switched Speech using Phoneme Strings', 'link': 'https://scholar.google.com/citations?view_op=view_citation&hl=en&user=0L3EvQYAAAAJ&citation_for_view=0L3EvQYAAAAJ:2osOgNQ5qMEC', 'citation_id': '0L3EvQYAAAAJ:2osOgNQ5qMEC', 'authors': 'KR Mabokela, MJD Manamela, TI Modipa', 'publication': 'Southern Africa Telecommunication Networks and Applications Conference …, 2013', 'cited_by': {'value': None, 'link': 'https://scholar.google.com'}, 'year': '2013'}\n",
      "{'title': 'Automatic Language Identification Using Word Segments on Mixed-Language Speech', 'link': 'https://scholar.google.com/citations?view_op=view_citation&hl=en&user=0L3EvQYAAAAJ&citation_for_view=0L3EvQYAAAAJ:d1gkVwhDpl0C', 'citation_id': '0L3EvQYAAAAJ:d1gkVwhDpl0C', 'authors': 'KR Mabokela, MJD Manamela, N Gasela', 'cited_by': {'value': None, 'link': 'https://scholar.google.com'}, 'year': '2012'}\n"
     ]
    }
   ],
   "source": [
    "# \n",
    "_result: list = list()\n",
    "for article in data:\n",
    "    print(article)"
   ]
  },
  {
   "cell_type": "code",
   "execution_count": null,
   "metadata": {},
   "outputs": [],
   "source": []
  }
 ],
 "metadata": {
  "kernelspec": {
   "display_name": "env-cbe-hackathon",
   "language": "python",
   "name": "python3"
  },
  "language_info": {
   "codemirror_mode": {
    "name": "ipython",
    "version": 3
   },
   "file_extension": ".py",
   "mimetype": "text/x-python",
   "name": "python",
   "nbconvert_exporter": "python",
   "pygments_lexer": "ipython3",
   "version": "3.10.7"
  },
  "orig_nbformat": 4
 },
 "nbformat": 4,
 "nbformat_minor": 2
}
