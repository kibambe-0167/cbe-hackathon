{
 "cells": [
  {
   "cell_type": "code",
   "execution_count": 21,
   "metadata": {},
   "outputs": [
    {
     "name": "stdout",
     "output_type": "stream",
     "text": [
      "size of text: [Your text data here] : is 68 bytes\n",
      "size of encoded text : [b'Your text data here'] : is 52 bytes\n",
      "72\n",
      "b'\\x1f\\x8b\\x08\\x00\\xc1\\xeard\\x02\\xff\\x8b\\xcc/-R(I\\xad(QHI,IT\\xc8H-J\\x05\\x00\\xc1\\xca\\x8c_\\x13\\x00\\x00\\x00'\n",
      "de-compress: Your text data here\n"
     ]
    }
   ],
   "source": [
    "import gzip\n",
    "import sys\n",
    "from pympler import asizeof\n",
    "import json\n",
    "import pandas as pd\n",
    "import seaborn as sns\n",
    "import matplotlib.pyplot as plt\n",
    "\n",
    "text = \"Your text data here\"\n",
    "text_en = text.encode('utf-8')\n",
    "print( f\"size of text: [{text}] : is {sys.getsizeof(text)} bytes\" )\n",
    "print( f\"size of encoded text : [{text_en}] : is {sys.getsizeof( text_en )} bytes\" )\n",
    "\n",
    "text_com = gzip.compress(text.encode('utf-8'))\n",
    "text_en_com = gzip.compress(text_en)\n",
    "print( sys.getsizeof( text_com))\n",
    "print(text_com)\n",
    "\n",
    "print(f\"de-compress: {gzip.decompress(text_com).decode()}\")"
   ]
  },
  {
   "cell_type": "code",
   "execution_count": 54,
   "metadata": {},
   "outputs": [],
   "source": [
    "file_path = \"data.json\"\n",
    "def write_dict_file(data):\n",
    "    d = load_data_file()\n",
    "    if d:\n",
    "        d.extends(data)\n",
    "        # Open the file in wrte mode\n",
    "        with open(file_path , \"w\") as file:\n",
    "            # Write the dictionary as a JSON string to the file\n",
    "            json.dump(d, file)\n",
    "        return True\n",
    "    else: return False\n",
    "\n",
    "def load_data_file():\n",
    "    '''load current data and append new data'''\n",
    "    data = None\n",
    "    with open(file_path, \"r\") as file:\n",
    "        data = json.load(file)\n",
    "    return data"
   ]
  },
  {
   "cell_type": "code",
   "execution_count": 93,
   "metadata": {},
   "outputs": [],
   "source": [
    "from serpapi import GoogleSearch\n",
    "\n",
    "class Authors(object):\n",
    "  def __init__(self) -> None:\n",
    "    '''constructor for the class.'''\n",
    "\n",
    "  def search_scholar(self, ):\n",
    "    '''search author from google scholar...'''\n",
    "    search = GoogleSearch({\n",
    "        \"engine\": \"google_scholar\",\n",
    "        \"q\": \"nlp\",\n",
    "        \"author\": \"Mercy Mpinganjira\",\n",
    "        \"location\": \"south africa\",\n",
    "        \"api_key\": \"623e7e74cde13a07079ea444adbbb7b0fd7070796b34b061e21fc1be638c7c9b\"\n",
    "      })\n",
    "    result = search.get_dict()\n",
    "    return result['organic_results']\n",
    "\n",
    "  def search_author(self, author_id: str ):\n",
    "    '''search result by author'''\n",
    "    search = GoogleSearch({\n",
    "      \"engine\": \"google_scholar_author\",\n",
    "      \"author_id\": author_id,\n",
    "      \"api_key\": \"623e7e74cde13a07079ea444adbbb7b0fd7070796b34b061e21fc1be638c7c9b\"\n",
    "    })\n",
    "    result = search.get_dict()\n",
    "    return result\n",
    "\n",
    "  def get_author_profile(self, names: str):\n",
    "    params = {\n",
    "      \"engine\": \"google_scholar_profiles\",\n",
    "      \"mauthors\": names,\n",
    "      \"api_key\": \"623e7e74cde13a07079ea444adbbb7b0fd7070796b34b061e21fc1be638c7c9b\"\n",
    "    }\n",
    "    search = GoogleSearch(params)\n",
    "    results = search.get_dict()\n",
    "    profiles = results[\"profiles\"]\n",
    "    return profiles"
   ]
  },
  {
   "cell_type": "code",
   "execution_count": 94,
   "metadata": {},
   "outputs": [
    {
     "name": "stdout",
     "output_type": "stream",
     "text": [
      "[{'name': 'Mercy Mpinganjira', 'link': 'https://scholar.google.com/citations?hl=en&user=ry6x3GUAAAAJ', 'serpapi_link': 'https://serpapi.com/search.json?author_id=ry6x3GUAAAAJ&engine=google_scholar_author&hl=en', 'author_id': 'ry6x3GUAAAAJ', 'affiliations': 'Professor, University of Johannesburg', 'email': 'Verified email at uj.ac.za', 'cited_by': 2188, 'interests': [{'title': 'Digital Marketing and Consumer Behaviour', 'serpapi_link': 'https://serpapi.com/search.json?engine=google_scholar_profiles&hl=en&mauthors=label%3Adigital_marketing_and_consumer_behaviour', 'link': 'https://scholar.google.com/citations?hl=en&view_op=search_authors&mauthors=label:digital_marketing_and_consumer_behaviour'}], 'thumbnail': 'https://scholar.googleusercontent.com/citations?view_op=small_photo&user=ry6x3GUAAAAJ&citpid=1'}]\n"
     ]
    }
   ],
   "source": [
    "# \n",
    "a_name = \"Mercy Mpinganjira\"\n",
    "a_obj = Authors()\n",
    "# a_obj.\n",
    "\n",
    "\n",
    "\n",
    "# r = search_author()\n",
    "# print(f\"{r.keys()}\")\n",
    "# r['co_authors']"
   ]
  },
  {
   "cell_type": "code",
   "execution_count": null,
   "metadata": {},
   "outputs": [],
   "source": [
    "# write to file\n",
    "# print(result['organic_results'])\n",
    "available_data = load_data_file()\n",
    "# print(available_data)\n",
    "if available_data:\n",
    "    write_dict_file( result['organic_results'].extend(available_data) )\n",
    "else:\n",
    "    write_dict_file( result['organic_results'] )\n",
    "# write_dict_file( result['organic_results'] )"
   ]
  },
  {
   "cell_type": "code",
   "execution_count": 57,
   "metadata": {},
   "outputs": [
    {
     "name": "stdout",
     "output_type": "stream",
     "text": [
      "dict_keys(['search_metadata', 'search_parameters', 'search_information', 'organic_results', 'related_searches', 'pagination', 'serpapi_pagination'])\n"
     ]
    },
    {
     "data": {
      "text/plain": [
       "20"
      ]
     },
     "execution_count": 57,
     "metadata": {},
     "output_type": "execute_result"
    }
   ],
   "source": [
    "print(result.keys())\n",
    "len( result['organic_results'] )"
   ]
  },
  {
   "cell_type": "code",
   "execution_count": 53,
   "metadata": {},
   "outputs": [
    {
     "data": {
      "text/plain": [
       "{'title': 'Modeling code-switching speech on under-resourced languages for language identification',\n",
       " 'link': 'https://scholar.google.com/citations?view_op=view_citation&hl=en&user=0L3EvQYAAAAJ&citation_for_view=0L3EvQYAAAAJ:UeHWp8X0CEIC',\n",
       " 'citation_id': '0L3EvQYAAAAJ:UeHWp8X0CEIC',\n",
       " 'authors': 'KR Mabokela, MJ Manamela, M Manaileng',\n",
       " 'publication': 'Spoken Language Technologies for Under-Resourced Languages, 2014',\n",
       " 'cited_by': {'value': 26,\n",
       "  'link': 'https://scholar.google.com/scholar?oi=bibs&hl=en&cites=18191802244881488859',\n",
       "  'serpapi_link': 'https://serpapi.com/search.json?cites=18191802244881488859&engine=google_scholar&hl=en',\n",
       "  'cites_id': '18191802244881488859'},\n",
       " 'year': '2014'}"
      ]
     },
     "execution_count": 53,
     "metadata": {},
     "output_type": "execute_result"
    }
   ],
   "source": [
    "# data visualisation\n",
    "with open(\"./articles.json\") as obj:\n",
    "    data = json.load(obj)\n",
    "data[0]"
   ]
  },
  {
   "cell_type": "code",
   "execution_count": 56,
   "metadata": {},
   "outputs": [
    {
     "data": {
      "text/html": [
       "<div>\n",
       "<style scoped>\n",
       "    .dataframe tbody tr th:only-of-type {\n",
       "        vertical-align: middle;\n",
       "    }\n",
       "\n",
       "    .dataframe tbody tr th {\n",
       "        vertical-align: top;\n",
       "    }\n",
       "\n",
       "    .dataframe thead th {\n",
       "        text-align: right;\n",
       "    }\n",
       "</style>\n",
       "<table border=\"1\" class=\"dataframe\">\n",
       "  <thead>\n",
       "    <tr style=\"text-align: right;\">\n",
       "      <th></th>\n",
       "      <th>title</th>\n",
       "      <th>year</th>\n",
       "      <th>cited</th>\n",
       "    </tr>\n",
       "  </thead>\n",
       "  <tbody>\n",
       "    <tr>\n",
       "      <th>0</th>\n",
       "      <td>modeling code-switching speech on under-resour...</td>\n",
       "      <td>2014</td>\n",
       "      <td>26.0</td>\n",
       "    </tr>\n",
       "    <tr>\n",
       "      <th>1</th>\n",
       "      <td>an integrated language identification for code...</td>\n",
       "      <td>2013</td>\n",
       "      <td>8.0</td>\n",
       "    </tr>\n",
       "    <tr>\n",
       "      <th>2</th>\n",
       "      <td>a multilingual asr of sepedi-english code-swit...</td>\n",
       "      <td>2019</td>\n",
       "      <td>3.0</td>\n",
       "    </tr>\n",
       "    <tr>\n",
       "      <th>3</th>\n",
       "      <td>a sentiment corpus for south african under-res...</td>\n",
       "      <td>2022</td>\n",
       "      <td>2.0</td>\n",
       "    </tr>\n",
       "    <tr>\n",
       "      <th>4</th>\n",
       "      <td>phone clustering methods for multilingual lang...</td>\n",
       "      <td>2020</td>\n",
       "      <td>2.0</td>\n",
       "    </tr>\n",
       "  </tbody>\n",
       "</table>\n",
       "</div>"
      ],
      "text/plain": [
       "                                               title  year  cited\n",
       "0  modeling code-switching speech on under-resour...  2014   26.0\n",
       "1  an integrated language identification for code...  2013    8.0\n",
       "2  a multilingual asr of sepedi-english code-swit...  2019    3.0\n",
       "3  a sentiment corpus for south african under-res...  2022    2.0\n",
       "4  phone clustering methods for multilingual lang...  2020    2.0"
      ]
     },
     "execution_count": 56,
     "metadata": {},
     "output_type": "execute_result"
    }
   ],
   "source": [
    "i_features = [{\"title\":d['title'], \"year\":d['year'], 'cited':d['cited_by']['value']} for d in data]\n",
    "\n",
    "ds = pd.DataFrame( i_features )\n",
    "# replace NaN with zero.\n",
    "ds.fillna(0, inplace=True)\n",
    "ds['title'] = ds['title'].apply( lambda x : x.lower() )\n",
    "ds.head()"
   ]
  },
  {
   "cell_type": "code",
   "execution_count": null,
   "metadata": {},
   "outputs": [],
   "source": [
    "fig, ax = plt.subplots(figsize=(10,4))\n",
    "sns.barplot(data=ds, x=\"year\", y=\"cited\", order=sorted(ds['year'].unique()) )\n",
    "plt.title(\"Number Of Citations Per Year\")\n",
    "plt.xlabel(\"Year Of Publication\")\n",
    "plt.ylabel(\"Number Of Citations\")\n",
    "plt.show()"
   ]
  },
  {
   "attachments": {},
   "cell_type": "markdown",
   "metadata": {},
   "source": [
    "## solve clustering using keys words."
   ]
  },
  {
   "cell_type": "code",
   "execution_count": 78,
   "metadata": {},
   "outputs": [],
   "source": [
    "# key words\n",
    "_keys_word = {\n",
    "    'mobile tech': [\n",
    "        'mobile', 'smartphone', 'cellphone', 'tablet', 'iOS', 'Android', 'iPhone', 'iPad', 'Samsung', 'Huawei',\n",
    "        'Google Pixel', 'LG', 'Motorola', 'Nokia', 'Bluetooth', 'Wi-Fi', '5G', 'LTE'\n",
    "    ],\n",
    "    'data science': [\n",
    "        'Data Analysis', 'Data Visualization', 'Data Wrangling', 'Data Engineering', 'Data Integration',\n",
    "        'Data Exploration', 'Data Modeling', 'Data Mining', 'Data Warehousing', 'Machine Learning',\n",
    "        'Statistical Analysis', 'Predictive Analytics', 'Text Mining', 'Time Series Analysis',\n",
    "        'Feature Engineering', 'Dimensionality Reduction', 'Anomaly Detection', 'Clustering', 'Classification',\n",
    "        'Regression', 'Natural Language Processing', 'Computer Vision', 'Big Data', 'Hadoop', 'Spark',\n",
    "        'Python', 'R', 'SQL'\n",
    "    ],\n",
    "    'cybersecurity': [\n",
    "        'Network Security', 'Web Security', 'Information Security', 'Cyber Threats', 'Data Privacy',\n",
    "        'Cryptography', 'Vulnerability Assessment', 'Penetration Testing', 'Identity and Access Management',\n",
    "        'Security Auditing', 'Security Policies', 'Malware Analysis', 'Intrusion Detection', 'Firewalls',\n",
    "        'Secure Coding', 'Security Incident Response', 'Risk Assessment', 'Security Architecture', 'Ethical Hacking',\n",
    "        'Cloud Security', 'IoT Security', 'Cyber Defense', 'SIEM', 'Zero Trust'\n",
    "    ],\n",
    "    'artificial intelligence software': [\n",
    "        'Artificial Neural Networks', 'Expert Systems', 'Knowledge Representation', 'Natural Language Processing',\n",
    "        'Computer Vision', 'Robotics', 'Machine Learning', 'Deep Learning', 'Reinforcement Learning',\n",
    "        'Cognitive Computing', 'Genetic Algorithms', 'Swarm Intelligence', 'Fuzzy Logic', 'Speech Recognition',\n",
    "        'Image Recognition', 'Pattern Recognition', 'AI Ethics', 'AI Governance', 'AI Bias', 'AI Explainability',\n",
    "        'AI Applications', 'AI in Healthcare', 'AI in Finance', 'AI in Education', 'AI in Gaming', 'Machine Learning', 'Deep Learning', 'Neural Networks', 'Natural Language Processing', 'Computer Vision', 'Robotics', 'Data Mining', 'Predictive Analytics', 'Reinforcement Learning', 'Expert Systems', 'Cognitive Computing', 'Big Data', 'Pattern Recognition', 'Intelligent Agents', 'Speech Recognition',  'Image Recognition', 'Knowledge Representation', 'Decision Support Systems', 'Virtual Assistants', 'Autonomous Vehicles', 'NLP', 'CNN', 'RNN', 'TensorFlow', 'LLM', 'GPT', 'ChatGPT', 'Modeling', 'Speech', 'CSV', 'SVM', 'KNN'\n",
    "    ],\n",
    "    'health': [\n",
    "        'Public Health', 'Epidemiology', 'Healthcare Systems', 'Medical Research', 'Health Informatics',\n",
    "        'Health Data Analytics', 'Health Technology', 'Health Policy', 'Disease Prevention', 'Health Promotion',\n",
    "        'Health Disparities', 'Health Behavior', 'Global Health', 'Digital Health', 'Telemedicine',\n",
    "        'Health Monitoring', 'Health Interventions', 'Genomics', 'Precision Medicine', 'Medical Imaging',\n",
    "        'Electronic Health Records', 'Patient Engagement', 'Healthcare Delivery'\n",
    "    ],\n",
    "    'social sciences': [\n",
    "        'Sociology', 'Psychology', 'Anthropology', 'Political Science', 'Economics', 'Social Research',\n",
    "        'Qualitative Research', 'Quantitative Research', 'Survey Methods', 'Data Analysis', 'Social Networks',\n",
    "        'Cultural Studies', 'Gender Studies', 'Race and Ethnicity', 'Social Inequality', 'Social Policy',\n",
    "        'Social Justice', 'Human Behavior', 'Qualitative Interviews', 'Focus Groups', 'Case Studies',\n",
    "        'Demography', 'Social Theory', 'Social Impact', 'Community Development'\n",
    "    ],\n",
    "    'environment': [\n",
    "        'Environmental Science', 'Climate Change', 'Sustainability', 'Conservation', 'Natural Resources',\n",
    "        'Ecology', 'Environmental Policy', 'Renewable Energy', 'Environmental Impact Assessment', 'Green Technology',\n",
    "        'Biodiversity', 'Ecosystems', 'Water Management', 'Air Pollution', 'Waste Management', 'Environmental Ethics',\n",
    "        'Environmental Education', 'Climate Adaptation', 'Environmental Justice', 'Sustainable Development',\n",
    "        'Environmental Modeling', 'Environmental Health', 'Environmental Economics', 'Land Use Planning'\n",
    "    ],\n",
    "    'politics': [\n",
    "        'Political Science', 'Political Theory', 'International Relations', 'Comparative Politics', 'Governance',\n",
    "        'Political Institutions', 'Public Policy', 'Political Economy', 'Political Behavior', 'Political Parties',\n",
    "        'Democracy', 'Political Ideologies', 'Political Campaigns', 'Voting Behavior', 'Policy Analysis',\n",
    "        'Policy Implementation', 'Political Activism', 'Political Communication', 'Political Leadership',\n",
    "        'Political Reform', 'Global Governance', 'Power and Influence', 'Statecraft', 'Foreign Policy',\n",
    "        'Political Sociology'\n",
    "    ]\n",
    "}\n",
    "# \n",
    "# _keys_word"
   ]
  },
  {
   "cell_type": "code",
   "execution_count": 86,
   "metadata": {},
   "outputs": [
    {
     "data": {
      "text/plain": [
       "array(['artificial intelligence software', 'data science',\n",
       "       'cybersecurity', 'social sciences', 'environment', 'health', '',\n",
       "       'politics'], dtype=object)"
      ]
     },
     "execution_count": 86,
     "metadata": {},
     "output_type": "execute_result"
    }
   ],
   "source": [
    "# \n",
    "_result: list = list()\n",
    "# \n",
    "for article in data:\n",
    "    f_key: str = \"\"; f_score: int = 0\n",
    "    for k, cats in _keys_word.items():\n",
    "        key, score = k, 0\n",
    "        cats = ' '.join(cats).lower().split(' ')\n",
    "        score = len(list(set( article['title'].lower().replace('-', ' ').strip().split(' ')).intersection(cats)) )\n",
    "        \n",
    "        if 'publication' in article.keys():\n",
    "            score += len(list(set( article['publication'].lower().replace('-', ' ').strip().split(' ')).intersection(cats)) )\n",
    "        if score > f_score: f_key = k; f_score = score\n",
    "    # \n",
    "    _result.append({\"title\":article['title'], \"year\":article['year'], 'cited':article['cited_by']['value'], \"keyword\": f_key, \"score\": f_score})\n",
    "ddd : pd.DataFrame = pd.DataFrame(_result)\n",
    "ddd.fillna(0, inplace=True)\n",
    "ddd['title'] = ddd['title'].apply( lambda x : x.lower() )\n",
    "\n",
    "\n",
    "\n",
    "\n",
    "\n",
    "ddd['keyword'].unique()\n"
   ]
  },
  {
   "cell_type": "code",
   "execution_count": 100,
   "metadata": {},
   "outputs": [
    {
     "data": {
      "text/html": [
       "<div>\n",
       "<style scoped>\n",
       "    .dataframe tbody tr th:only-of-type {\n",
       "        vertical-align: middle;\n",
       "    }\n",
       "\n",
       "    .dataframe tbody tr th {\n",
       "        vertical-align: top;\n",
       "    }\n",
       "\n",
       "    .dataframe thead th {\n",
       "        text-align: right;\n",
       "    }\n",
       "</style>\n",
       "<table border=\"1\" class=\"dataframe\">\n",
       "  <thead>\n",
       "    <tr style=\"text-align: right;\">\n",
       "      <th></th>\n",
       "      <th>title</th>\n",
       "      <th>year</th>\n",
       "      <th>cited</th>\n",
       "      <th>keyword</th>\n",
       "      <th>score</th>\n",
       "    </tr>\n",
       "  </thead>\n",
       "  <tbody>\n",
       "    <tr>\n",
       "      <th>0</th>\n",
       "      <td>modeling code-switching speech on under-resour...</td>\n",
       "      <td>2014</td>\n",
       "      <td>26.0</td>\n",
       "      <td>artificial intelligence software</td>\n",
       "      <td>4</td>\n",
       "    </tr>\n",
       "    <tr>\n",
       "      <th>1</th>\n",
       "      <td>an integrated language identification for code...</td>\n",
       "      <td>2013</td>\n",
       "      <td>8.0</td>\n",
       "      <td>artificial intelligence software</td>\n",
       "      <td>6</td>\n",
       "    </tr>\n",
       "    <tr>\n",
       "      <th>2</th>\n",
       "      <td>a multilingual asr of sepedi-english code-swit...</td>\n",
       "      <td>2019</td>\n",
       "      <td>3.0</td>\n",
       "      <td>data science</td>\n",
       "      <td>2</td>\n",
       "    </tr>\n",
       "    <tr>\n",
       "      <th>3</th>\n",
       "      <td>a sentiment corpus for south african under-res...</td>\n",
       "      <td>2022</td>\n",
       "      <td>2.0</td>\n",
       "      <td>artificial intelligence software</td>\n",
       "      <td>1</td>\n",
       "    </tr>\n",
       "    <tr>\n",
       "      <th>4</th>\n",
       "      <td>phone clustering methods for multilingual lang...</td>\n",
       "      <td>2020</td>\n",
       "      <td>2.0</td>\n",
       "      <td>data science</td>\n",
       "      <td>5</td>\n",
       "    </tr>\n",
       "  </tbody>\n",
       "</table>\n",
       "</div>"
      ],
      "text/plain": [
       "                                               title  year  cited   \n",
       "0  modeling code-switching speech on under-resour...  2014   26.0  \\\n",
       "1  an integrated language identification for code...  2013    8.0   \n",
       "2  a multilingual asr of sepedi-english code-swit...  2019    3.0   \n",
       "3  a sentiment corpus for south african under-res...  2022    2.0   \n",
       "4  phone clustering methods for multilingual lang...  2020    2.0   \n",
       "\n",
       "                            keyword  score  \n",
       "0  artificial intelligence software      4  \n",
       "1  artificial intelligence software      6  \n",
       "2                      data science      2  \n",
       "3  artificial intelligence software      1  \n",
       "4                      data science      5  "
      ]
     },
     "execution_count": 100,
     "metadata": {},
     "output_type": "execute_result"
    }
   ],
   "source": [
    "ddd.head()"
   ]
  },
  {
   "cell_type": "code",
   "execution_count": 101,
   "metadata": {},
   "outputs": [
    {
     "data": {
      "image/png": "[encoded data removed]",
      "text/plain": [
       "<Figure size 1000x400 with 1 Axes>"
      ]
     },
     "metadata": {},
     "output_type": "display_data"
    }
   ],
   "source": [
    "fig, ax = plt.subplots(figsize=(10,4))\n",
    "sns.countplot(data=ddd, y=\"keyword\" )\n",
    "plt.title(\"Frequency Of Topic Research\")\n",
    "plt.xlabel(\"Research Topic\")\n",
    "plt.ylabel(\"Count Of Articles\")\n",
    "plt.show()"
   ]
  },
  {
   "cell_type": "code",
   "execution_count": 109,
   "metadata": {},
   "outputs": [
    {
     "data": {
      "image/png": "[encoded data removed]",
      "text/plain": [
       "<Figure size 1000x400 with 1 Axes>"
      ]
     },
     "metadata": {},
     "output_type": "display_data"
    }
   ],
   "source": [
    "# \n",
    "# \n",
    "fig, ax = plt.subplots(figsize=(10,4))\n",
    "sns.barplot(data=ddd, x=\"year\", y=\"cited\",order=sorted(ddd['year'].unique()), hue='keyword')\n",
    "plt.title(\"Number Of Articles Per Year With Research Topic\")\n",
    "plt.xlabel(\"Year\")\n",
    "plt.ylabel(\"Citations\")\n",
    "plt.show()"
   ]
  },
  {
   "cell_type": "code",
   "execution_count": null,
   "metadata": {},
   "outputs": [],
   "source": []
  }
 ],
 "metadata": {
  "kernelspec": {
   "display_name": "env-cbe-hackathon",
   "language": "python",
   "name": "python3"
  },
  "language_info": {
   "codemirror_mode": {
    "name": "ipython",
    "version": 3
   },
   "file_extension": ".py",
   "mimetype": "text/x-python",
   "name": "python",
   "nbconvert_exporter": "python",
   "pygments_lexer": "ipython3",
   "version": "3.10.7"
  },
  "orig_nbformat": 4
 },
 "nbformat": 4,
 "nbformat_minor": 2
}
